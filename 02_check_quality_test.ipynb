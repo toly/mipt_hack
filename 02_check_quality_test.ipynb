{
 "cells": [
  {
   "cell_type": "markdown",
   "metadata": {
    "toc": true
   },
   "source": [
    "<h1>Table of Contents<span class=\"tocSkip\"></span></h1>\n",
    "<div class=\"toc\" style=\"margin-top: 1em;\"><ul class=\"toc-item\"></ul></div>"
   ]
  },
  {
   "cell_type": "code",
   "execution_count": 3,
   "metadata": {
    "ExecuteTime": {
     "end_time": "2018-05-06T12:43:12.092776Z",
     "start_time": "2018-05-06T12:43:12.087267Z"
    }
   },
   "outputs": [],
   "source": [
    "import os\n",
    "import time\n",
    "import librosa\n",
    "import numpy as np\n",
    "import pandas as pd\n",
    "from keras.models import load_model"
   ]
  },
  {
   "cell_type": "code",
   "execution_count": 2,
   "metadata": {
    "ExecuteTime": {
     "end_time": "2018-05-06T12:41:58.867720Z",
     "start_time": "2018-05-06T12:41:57.340955Z"
    }
   },
   "outputs": [],
   "source": [
    "model1 = load_model('./data/baseline_clean_zeros1.pkl')"
   ]
  },
  {
   "cell_type": "code",
   "execution_count": 4,
   "metadata": {
    "ExecuteTime": {
     "end_time": "2018-05-06T12:43:28.992400Z",
     "start_time": "2018-05-06T12:43:28.974869Z"
    }
   },
   "outputs": [
    {
     "name": "stdout",
     "output_type": "stream",
     "text": [
      "background_0001.wav\n"
     ]
    }
   ],
   "source": []
  },
  {
   "cell_type": "code",
   "execution_count": 5,
   "metadata": {
    "ExecuteTime": {
     "end_time": "2018-05-06T12:44:12.665622Z",
     "start_time": "2018-05-06T12:44:12.647851Z"
    }
   },
   "outputs": [],
   "source": [
    "df = pd.read_csv('./data/data_v_7_stc/meta/fold1_test.txt', sep='\\t')\n",
    "df.columns = ['filename', 'xz1', 'xz2', 'time', 'target']\n",
    "targets = list(df['target'].unique())\n",
    "targets.sort()"
   ]
  },
  {
   "cell_type": "code",
   "execution_count": 6,
   "metadata": {
    "ExecuteTime": {
     "end_time": "2018-05-06T12:44:32.412243Z",
     "start_time": "2018-05-06T12:44:32.403976Z"
    }
   },
   "outputs": [],
   "source": [
    "def score_filename(filename):\n",
    "    \n",
    "    data, _ = librosa.load(filename, sr=8000)\n",
    "    \n",
    "    samples = []\n",
    "    for i in range(0, data.shape[0], 8000):\n",
    "        sub_sample = data[i: i + 8000]\n",
    "        if sub_sample.shape[0] < 8000:\n",
    "            sub_sample = np.array(list(sub_sample) + [0 for _ in range(8000 - sub_sample.shape[0])])\n",
    "        samples.append(sub_sample)\n",
    "\n",
    "    x = np.vstack(samples)\n",
    "    x = np.expand_dims(x, axis=2)\n",
    "    \n",
    "    y = model1.predict(x)\n",
    "    \n",
    "    y = y.mean(axis=0)\n",
    "    \n",
    "    y = np.exp(y) / np.exp(y).sum()\n",
    "    return y"
   ]
  },
  {
   "cell_type": "code",
   "execution_count": 8,
   "metadata": {
    "ExecuteTime": {
     "end_time": "2018-05-06T12:51:25.863396Z",
     "start_time": "2018-05-06T12:49:56.686815Z"
    }
   },
   "outputs": [],
   "source": [
    "ff = open('./output.txt', 'w')\n",
    "\n",
    "for f in os.listdir('/Volumes/NO NAME/data_v_7_stc_test'):\n",
    "    filename = '/Volumes/NO NAME/data_v_7_stc_test/' + f\n",
    "    score = score_filename(filename)\n",
    "    \n",
    "    target_ind = score.argmax()\n",
    "    target = targets[target_ind]\n",
    "    proba = score[target_ind]\n",
    "    \n",
    "    ff.write(f + '\\t' + str(proba) + '\\t' + target + '\\n')\n",
    "\n",
    "ff.close()"
   ]
  },
  {
   "cell_type": "code",
   "execution_count": null,
   "metadata": {},
   "outputs": [],
   "source": []
  },
  {
   "cell_type": "code",
   "execution_count": null,
   "metadata": {},
   "outputs": [],
   "source": []
  },
  {
   "cell_type": "code",
   "execution_count": null,
   "metadata": {},
   "outputs": [],
   "source": []
  },
  {
   "cell_type": "code",
   "execution_count": 58,
   "metadata": {
    "ExecuteTime": {
     "end_time": "2018-05-06T11:23:11.958342Z",
     "start_time": "2018-05-06T11:18:20.880371Z"
    }
   },
   "outputs": [
    {
     "name": "stdout",
     "output_type": "stream",
     "text": [
      "0 0.0009658336639404297\n",
      "100 18.446014881134033\n",
      "200 15.590487718582153\n",
      "300 24.505233764648438\n",
      "400 5.439617872238159\n",
      "500 10.356916189193726\n",
      "600 7.6485912799835205\n",
      "700 5.70461106300354\n",
      "800 4.363824844360352\n",
      "900 2.9724698066711426\n",
      "1000 3.2124979496002197\n",
      "1100 7.435490131378174\n",
      "1200 12.942426919937134\n",
      "1300 14.056018829345703\n",
      "1400 16.58789086341858\n",
      "1500 10.579710006713867\n",
      "1600 10.093451023101807\n",
      "1700 7.218870162963867\n",
      "1800 22.56569790840149\n",
      "1900 46.14298987388611\n",
      "2000 22.945905923843384\n",
      "2100 7.443116903305054\n",
      "2200 8.504034757614136\n"
     ]
    }
   ],
   "source": [
    "predicted_targets = []\n",
    "predicted_probs = []\n",
    "\n",
    "t = time.time()\n",
    "for i, row in df.iterrows():\n",
    "    \n",
    "    if i % 100 == 0:\n",
    "        print(i, time.time() - t)\n",
    "        t = time.time()\n",
    "    \n",
    "    y = score_filename('./data/data_v_7_stc/audio/' + row['filename'])\n",
    "    target_ind = y.argmax()\n",
    "    target = targets[target_ind]\n",
    "    prob = y[target_ind]\n",
    "    predicted_targets.append(target)\n",
    "    predicted_probs.append(prob)"
   ]
  },
  {
   "cell_type": "code",
   "execution_count": 60,
   "metadata": {
    "ExecuteTime": {
     "end_time": "2018-05-06T11:50:54.141916Z",
     "start_time": "2018-05-06T11:50:54.137267Z"
    }
   },
   "outputs": [],
   "source": [
    "df['pred_target'] = predicted_targets\n",
    "df['pred_prob'] = predicted_probs"
   ]
  },
  {
   "cell_type": "code",
   "execution_count": 62,
   "metadata": {
    "ExecuteTime": {
     "end_time": "2018-05-06T11:51:09.174882Z",
     "start_time": "2018-05-06T11:51:09.168220Z"
    }
   },
   "outputs": [
    {
     "data": {
      "text/plain": [
       "(2265, 7)"
      ]
     },
     "execution_count": 62,
     "metadata": {},
     "output_type": "execute_result"
    }
   ],
   "source": [
    "df.shape"
   ]
  },
  {
   "cell_type": "code",
   "execution_count": 63,
   "metadata": {
    "ExecuteTime": {
     "end_time": "2018-05-06T11:51:24.484685Z",
     "start_time": "2018-05-06T11:51:24.472048Z"
    }
   },
   "outputs": [
    {
     "data": {
      "text/plain": [
       "(280, 7)"
      ]
     },
     "execution_count": 63,
     "metadata": {},
     "output_type": "execute_result"
    }
   ],
   "source": [
    "df[df['target'] != df['pred_target']].shape"
   ]
  },
  {
   "cell_type": "code",
   "execution_count": 64,
   "metadata": {
    "ExecuteTime": {
     "end_time": "2018-05-06T11:51:43.600419Z",
     "start_time": "2018-05-06T11:51:43.590579Z"
    }
   },
   "outputs": [
    {
     "data": {
      "text/plain": [
       "0.8763796909492274"
      ]
     },
     "execution_count": 64,
     "metadata": {},
     "output_type": "execute_result"
    }
   ],
   "source": [
    "(2265. - 280.) / 2265"
   ]
  },
  {
   "cell_type": "code",
   "execution_count": 67,
   "metadata": {
    "ExecuteTime": {
     "end_time": "2018-05-06T11:55:42.524888Z",
     "start_time": "2018-05-06T11:55:42.502821Z"
    }
   },
   "outputs": [
    {
     "data": {
      "text/html": [
       "<div>\n",
       "<style scoped>\n",
       "    .dataframe tbody tr th:only-of-type {\n",
       "        vertical-align: middle;\n",
       "    }\n",
       "\n",
       "    .dataframe tbody tr th {\n",
       "        vertical-align: top;\n",
       "    }\n",
       "\n",
       "    .dataframe thead th {\n",
       "        text-align: right;\n",
       "    }\n",
       "</style>\n",
       "<table border=\"1\" class=\"dataframe\">\n",
       "  <thead>\n",
       "    <tr style=\"text-align: right;\">\n",
       "      <th></th>\n",
       "      <th>filename</th>\n",
       "      <th>xz1</th>\n",
       "      <th>xz2</th>\n",
       "      <th>time</th>\n",
       "      <th>target</th>\n",
       "      <th>pred_target</th>\n",
       "      <th>pred_prob</th>\n",
       "    </tr>\n",
       "  </thead>\n",
       "  <tbody>\n",
       "    <tr>\n",
       "      <th>47</th>\n",
       "      <td>background_0014_time_stretch_13.wav</td>\n",
       "      <td>office</td>\n",
       "      <td>0.0</td>\n",
       "      <td>2.110975</td>\n",
       "      <td>background</td>\n",
       "      <td>knocking_door</td>\n",
       "      <td>0.159780</td>\n",
       "    </tr>\n",
       "    <tr>\n",
       "      <th>184</th>\n",
       "      <td>background_0060_time_stretch_7.wav</td>\n",
       "      <td>office</td>\n",
       "      <td>0.0</td>\n",
       "      <td>4.667075</td>\n",
       "      <td>background</td>\n",
       "      <td>keyboard</td>\n",
       "      <td>0.159167</td>\n",
       "    </tr>\n",
       "    <tr>\n",
       "      <th>217</th>\n",
       "      <td>background_0074_time_stretch_13.wav</td>\n",
       "      <td>office</td>\n",
       "      <td>0.0</td>\n",
       "      <td>2.127710</td>\n",
       "      <td>background</td>\n",
       "      <td>keyboard</td>\n",
       "      <td>0.155887</td>\n",
       "    </tr>\n",
       "    <tr>\n",
       "      <th>218</th>\n",
       "      <td>background_0074_time_stretch_4.wav</td>\n",
       "      <td>office</td>\n",
       "      <td>0.0</td>\n",
       "      <td>3.133560</td>\n",
       "      <td>background</td>\n",
       "      <td>speech</td>\n",
       "      <td>0.146438</td>\n",
       "    </tr>\n",
       "    <tr>\n",
       "      <th>219</th>\n",
       "      <td>background_0074_time_stretch_5.wav</td>\n",
       "      <td>office</td>\n",
       "      <td>0.0</td>\n",
       "      <td>2.983537</td>\n",
       "      <td>background</td>\n",
       "      <td>speech</td>\n",
       "      <td>0.153166</td>\n",
       "    </tr>\n",
       "  </tbody>\n",
       "</table>\n",
       "</div>"
      ],
      "text/plain": [
       "                                filename     xz1  xz2      time      target  \\\n",
       "47   background_0014_time_stretch_13.wav  office  0.0  2.110975  background   \n",
       "184   background_0060_time_stretch_7.wav  office  0.0  4.667075  background   \n",
       "217  background_0074_time_stretch_13.wav  office  0.0  2.127710  background   \n",
       "218   background_0074_time_stretch_4.wav  office  0.0  3.133560  background   \n",
       "219   background_0074_time_stretch_5.wav  office  0.0  2.983537  background   \n",
       "\n",
       "       pred_target  pred_prob  \n",
       "47   knocking_door   0.159780  \n",
       "184       keyboard   0.159167  \n",
       "217       keyboard   0.155887  \n",
       "218         speech   0.146438  \n",
       "219         speech   0.153166  "
      ]
     },
     "execution_count": 67,
     "metadata": {},
     "output_type": "execute_result"
    }
   ],
   "source": [
    "df[df['target'] != df['pred_target']].head(5)"
   ]
  },
  {
   "cell_type": "code",
   "execution_count": 70,
   "metadata": {
    "ExecuteTime": {
     "end_time": "2018-05-06T11:58:00.816512Z",
     "start_time": "2018-05-06T11:58:00.807005Z"
    }
   },
   "outputs": [],
   "source": [
    "df_conf = df.groupby(['target', 'pred_target']).size().reset_index()"
   ]
  },
  {
   "cell_type": "code",
   "execution_count": 74,
   "metadata": {
    "ExecuteTime": {
     "end_time": "2018-05-06T11:58:59.664446Z",
     "start_time": "2018-05-06T11:58:59.634484Z"
    }
   },
   "outputs": [
    {
     "data": {
      "text/html": [
       "<div>\n",
       "<style scoped>\n",
       "    .dataframe tbody tr th:only-of-type {\n",
       "        vertical-align: middle;\n",
       "    }\n",
       "\n",
       "    .dataframe tbody tr th {\n",
       "        vertical-align: top;\n",
       "    }\n",
       "\n",
       "    .dataframe thead tr th {\n",
       "        text-align: left;\n",
       "    }\n",
       "\n",
       "    .dataframe thead tr:last-of-type th {\n",
       "        text-align: right;\n",
       "    }\n",
       "</style>\n",
       "<table border=\"1\" class=\"dataframe\">\n",
       "  <thead>\n",
       "    <tr>\n",
       "      <th></th>\n",
       "      <th colspan=\"8\" halign=\"left\">0</th>\n",
       "    </tr>\n",
       "    <tr>\n",
       "      <th>pred_target</th>\n",
       "      <th>background</th>\n",
       "      <th>bags</th>\n",
       "      <th>door</th>\n",
       "      <th>keyboard</th>\n",
       "      <th>knocking_door</th>\n",
       "      <th>ring</th>\n",
       "      <th>speech</th>\n",
       "      <th>tool</th>\n",
       "    </tr>\n",
       "    <tr>\n",
       "      <th>target</th>\n",
       "      <th></th>\n",
       "      <th></th>\n",
       "      <th></th>\n",
       "      <th></th>\n",
       "      <th></th>\n",
       "      <th></th>\n",
       "      <th></th>\n",
       "      <th></th>\n",
       "    </tr>\n",
       "  </thead>\n",
       "  <tbody>\n",
       "    <tr>\n",
       "      <th>background</th>\n",
       "      <td>220.0</td>\n",
       "      <td>0.0</td>\n",
       "      <td>0.0</td>\n",
       "      <td>2.0</td>\n",
       "      <td>1.0</td>\n",
       "      <td>0.0</td>\n",
       "      <td>2.0</td>\n",
       "      <td>0.0</td>\n",
       "    </tr>\n",
       "    <tr>\n",
       "      <th>bags</th>\n",
       "      <td>1.0</td>\n",
       "      <td>243.0</td>\n",
       "      <td>1.0</td>\n",
       "      <td>3.0</td>\n",
       "      <td>0.0</td>\n",
       "      <td>0.0</td>\n",
       "      <td>0.0</td>\n",
       "      <td>0.0</td>\n",
       "    </tr>\n",
       "    <tr>\n",
       "      <th>door</th>\n",
       "      <td>69.0</td>\n",
       "      <td>13.0</td>\n",
       "      <td>505.0</td>\n",
       "      <td>42.0</td>\n",
       "      <td>34.0</td>\n",
       "      <td>4.0</td>\n",
       "      <td>9.0</td>\n",
       "      <td>8.0</td>\n",
       "    </tr>\n",
       "    <tr>\n",
       "      <th>keyboard</th>\n",
       "      <td>14.0</td>\n",
       "      <td>0.0</td>\n",
       "      <td>3.0</td>\n",
       "      <td>226.0</td>\n",
       "      <td>0.0</td>\n",
       "      <td>1.0</td>\n",
       "      <td>1.0</td>\n",
       "      <td>0.0</td>\n",
       "    </tr>\n",
       "    <tr>\n",
       "      <th>knocking_door</th>\n",
       "      <td>11.0</td>\n",
       "      <td>0.0</td>\n",
       "      <td>1.0</td>\n",
       "      <td>3.0</td>\n",
       "      <td>306.0</td>\n",
       "      <td>0.0</td>\n",
       "      <td>11.0</td>\n",
       "      <td>0.0</td>\n",
       "    </tr>\n",
       "    <tr>\n",
       "      <th>ring</th>\n",
       "      <td>6.0</td>\n",
       "      <td>0.0</td>\n",
       "      <td>1.0</td>\n",
       "      <td>0.0</td>\n",
       "      <td>0.0</td>\n",
       "      <td>133.0</td>\n",
       "      <td>1.0</td>\n",
       "      <td>2.0</td>\n",
       "    </tr>\n",
       "    <tr>\n",
       "      <th>speech</th>\n",
       "      <td>0.0</td>\n",
       "      <td>0.0</td>\n",
       "      <td>0.0</td>\n",
       "      <td>0.0</td>\n",
       "      <td>0.0</td>\n",
       "      <td>1.0</td>\n",
       "      <td>55.0</td>\n",
       "      <td>0.0</td>\n",
       "    </tr>\n",
       "    <tr>\n",
       "      <th>tool</th>\n",
       "      <td>3.0</td>\n",
       "      <td>20.0</td>\n",
       "      <td>4.0</td>\n",
       "      <td>0.0</td>\n",
       "      <td>0.0</td>\n",
       "      <td>8.0</td>\n",
       "      <td>0.0</td>\n",
       "      <td>297.0</td>\n",
       "    </tr>\n",
       "  </tbody>\n",
       "</table>\n",
       "</div>"
      ],
      "text/plain": [
       "                       0                                                     \\\n",
       "pred_target   background   bags   door keyboard knocking_door   ring speech   \n",
       "target                                                                        \n",
       "background         220.0    0.0    0.0      2.0           1.0    0.0    2.0   \n",
       "bags                 1.0  243.0    1.0      3.0           0.0    0.0    0.0   \n",
       "door                69.0   13.0  505.0     42.0          34.0    4.0    9.0   \n",
       "keyboard            14.0    0.0    3.0    226.0           0.0    1.0    1.0   \n",
       "knocking_door       11.0    0.0    1.0      3.0         306.0    0.0   11.0   \n",
       "ring                 6.0    0.0    1.0      0.0           0.0  133.0    1.0   \n",
       "speech               0.0    0.0    0.0      0.0           0.0    1.0   55.0   \n",
       "tool                 3.0   20.0    4.0      0.0           0.0    8.0    0.0   \n",
       "\n",
       "                      \n",
       "pred_target     tool  \n",
       "target                \n",
       "background       0.0  \n",
       "bags             0.0  \n",
       "door             8.0  \n",
       "keyboard         0.0  \n",
       "knocking_door    0.0  \n",
       "ring             2.0  \n",
       "speech           0.0  \n",
       "tool           297.0  "
      ]
     },
     "execution_count": 74,
     "metadata": {},
     "output_type": "execute_result"
    }
   ],
   "source": [
    "df_conf.pivot('target', 'pred_target').fillna(0)"
   ]
  },
  {
   "cell_type": "code",
   "execution_count": null,
   "metadata": {},
   "outputs": [],
   "source": []
  }
 ],
 "metadata": {
  "kernelspec": {
   "display_name": "Python 3",
   "language": "python",
   "name": "python3"
  },
  "language_info": {
   "codemirror_mode": {
    "name": "ipython",
    "version": 3
   },
   "file_extension": ".py",
   "mimetype": "text/x-python",
   "name": "python",
   "nbconvert_exporter": "python",
   "pygments_lexer": "ipython3",
   "version": "3.6.4"
  },
  "toc": {
   "nav_menu": {},
   "number_sections": true,
   "sideBar": true,
   "skip_h1_title": false,
   "toc_cell": true,
   "toc_position": {},
   "toc_section_display": "block",
   "toc_window_display": false
  }
 },
 "nbformat": 4,
 "nbformat_minor": 2
}
