{
 "cells": [
  {
   "cell_type": "markdown",
   "metadata": {
    "toc": true
   },
   "source": [
    "<h1>Table of Contents<span class=\"tocSkip\"></span></h1>\n",
    "<div class=\"toc\" style=\"margin-top: 1em;\"><ul class=\"toc-item\"><li><span><a href=\"#load-and-research-data\" data-toc-modified-id=\"load-and-research-data-1\"><span class=\"toc-item-num\">1&nbsp;&nbsp;</span>load and research data</a></span></li><li><span><a href=\"#split-train-test\" data-toc-modified-id=\"split-train-test-2\"><span class=\"toc-item-num\">2&nbsp;&nbsp;</span>split train test</a></span></li><li><span><a href=\"#build-datasets\" data-toc-modified-id=\"build-datasets-3\"><span class=\"toc-item-num\">3&nbsp;&nbsp;</span>build datasets</a></span></li><li><span><a href=\"#train-model\" data-toc-modified-id=\"train-model-4\"><span class=\"toc-item-num\">4&nbsp;&nbsp;</span>train model</a></span></li></ul></div>"
   ]
  },
  {
   "cell_type": "code",
   "execution_count": 18,
   "metadata": {
    "ExecuteTime": {
     "end_time": "2018-05-06T00:35:00.102381Z",
     "start_time": "2018-05-06T00:34:59.852229Z"
    }
   },
   "outputs": [],
   "source": [
    "import time\n",
    "import pickle\n",
    "import random\n",
    "import librosa\n",
    "from collections import Counter, defaultdict\n",
    "import numpy as np\n",
    "import pandas as pd\n",
    "\n",
    "from keras.models import Sequential\n",
    "from keras.layers import Dense, LeakyReLU, Dropout, Conv1D, MaxPool1D, Flatten\n",
    "from keras.utils import to_categorical\n",
    "\n",
    "import matplotlib.pyplot as plt"
   ]
  },
  {
   "cell_type": "markdown",
   "metadata": {},
   "source": [
    "# load and research data"
   ]
  },
  {
   "cell_type": "code",
   "execution_count": 8,
   "metadata": {
    "ExecuteTime": {
     "end_time": "2018-05-06T00:15:10.963773Z",
     "start_time": "2018-05-06T00:15:10.633346Z"
    }
   },
   "outputs": [],
   "source": [
    "df = pd.read_csv('./data/data_v_7_stc/meta/fold1_train.txt', sep='\\t')"
   ]
  },
  {
   "cell_type": "code",
   "execution_count": 9,
   "metadata": {
    "ExecuteTime": {
     "end_time": "2018-05-06T00:15:12.390018Z",
     "start_time": "2018-05-06T00:15:12.387508Z"
    }
   },
   "outputs": [],
   "source": [
    "df.columns = ['filename', 'xz1', 'xz2', 'time', 'target']"
   ]
  },
  {
   "cell_type": "code",
   "execution_count": 10,
   "metadata": {
    "ExecuteTime": {
     "end_time": "2018-05-06T00:15:13.724496Z",
     "start_time": "2018-05-06T00:15:13.596123Z"
    }
   },
   "outputs": [
    {
     "data": {
      "text/html": [
       "<div>\n",
       "<style scoped>\n",
       "    .dataframe tbody tr th:only-of-type {\n",
       "        vertical-align: middle;\n",
       "    }\n",
       "\n",
       "    .dataframe tbody tr th {\n",
       "        vertical-align: top;\n",
       "    }\n",
       "\n",
       "    .dataframe thead th {\n",
       "        text-align: right;\n",
       "    }\n",
       "</style>\n",
       "<table border=\"1\" class=\"dataframe\">\n",
       "  <thead>\n",
       "    <tr style=\"text-align: right;\">\n",
       "      <th></th>\n",
       "      <th>filename</th>\n",
       "      <th>xz1</th>\n",
       "      <th>xz2</th>\n",
       "      <th>time</th>\n",
       "      <th>target</th>\n",
       "    </tr>\n",
       "  </thead>\n",
       "  <tbody>\n",
       "    <tr>\n",
       "      <th>0</th>\n",
       "      <td>background_0001_time_stretch_1.wav</td>\n",
       "      <td>office</td>\n",
       "      <td>0.0</td>\n",
       "      <td>9.87941</td>\n",
       "      <td>background</td>\n",
       "    </tr>\n",
       "  </tbody>\n",
       "</table>\n",
       "</div>"
      ],
      "text/plain": [
       "                             filename     xz1  xz2     time      target\n",
       "0  background_0001_time_stretch_1.wav  office  0.0  9.87941  background"
      ]
     },
     "execution_count": 10,
     "metadata": {},
     "output_type": "execute_result"
    }
   ],
   "source": [
    "df.head(1)"
   ]
  },
  {
   "cell_type": "code",
   "execution_count": 5,
   "metadata": {
    "ExecuteTime": {
     "end_time": "2018-05-05T23:09:52.712510Z",
     "start_time": "2018-05-05T23:09:52.698359Z"
    }
   },
   "outputs": [
    {
     "data": {
      "text/plain": [
       "door             2732\n",
       "tool             1327\n",
       "knocking_door    1324\n",
       "bags              988\n",
       "keyboard          980\n",
       "background        899\n",
       "ring              570\n",
       "speech            220\n",
       "Name: target, dtype: int64"
      ]
     },
     "execution_count": 5,
     "metadata": {},
     "output_type": "execute_result"
    }
   ],
   "source": [
    "df['target'].value_counts()"
   ]
  },
  {
   "cell_type": "code",
   "execution_count": 7,
   "metadata": {
    "ExecuteTime": {
     "end_time": "2018-05-05T23:11:56.111529Z",
     "start_time": "2018-05-05T23:11:56.097413Z"
    }
   },
   "outputs": [],
   "source": [
    "df_train = df.sample(frac=0.9)\n",
    "df_test = df[~df.index.isin(df_train.index)]"
   ]
  },
  {
   "cell_type": "code",
   "execution_count": 8,
   "metadata": {
    "ExecuteTime": {
     "end_time": "2018-05-05T23:12:12.956470Z",
     "start_time": "2018-05-05T23:12:12.945524Z"
    }
   },
   "outputs": [
    {
     "data": {
      "text/plain": [
       "door             2471\n",
       "knocking_door    1197\n",
       "tool             1169\n",
       "bags              899\n",
       "keyboard          879\n",
       "background        809\n",
       "ring              526\n",
       "speech            186\n",
       "Name: target, dtype: int64"
      ]
     },
     "execution_count": 8,
     "metadata": {},
     "output_type": "execute_result"
    }
   ],
   "source": [
    "df_train['target'].value_counts()"
   ]
  },
  {
   "cell_type": "code",
   "execution_count": 11,
   "metadata": {
    "ExecuteTime": {
     "end_time": "2018-05-06T00:15:22.865356Z",
     "start_time": "2018-05-06T00:15:22.844597Z"
    }
   },
   "outputs": [],
   "source": [
    "targets_list = list(df['target'].unique())\n",
    "targets_list.sort()\n",
    "target2ind = {\n",
    "    target: i\n",
    "    for i, target in enumerate(targets_list)\n",
    "}"
   ]
  },
  {
   "cell_type": "markdown",
   "metadata": {
    "ExecuteTime": {
     "end_time": "2018-05-05T17:15:54.526493Z",
     "start_time": "2018-05-05T17:15:54.515789Z"
    }
   },
   "source": [
    "# split train test"
   ]
  },
  {
   "cell_type": "code",
   "execution_count": 18,
   "metadata": {
    "ExecuteTime": {
     "end_time": "2018-05-05T23:24:41.002060Z",
     "start_time": "2018-05-05T23:24:40.996836Z"
    }
   },
   "outputs": [],
   "source": [
    "T = 8000 # sample size\n",
    "F = 8000 # frequency"
   ]
  },
  {
   "cell_type": "code",
   "execution_count": 19,
   "metadata": {
    "ExecuteTime": {
     "end_time": "2018-05-05T23:24:41.598926Z",
     "start_time": "2018-05-05T23:24:41.590329Z"
    }
   },
   "outputs": [],
   "source": [
    "def build_target_samples(df_):\n",
    "    target_samples = defaultdict(list) # target -> [sample1, sample2, ...]\n",
    "\n",
    "#     t = time.time()\n",
    "    for row_no, row in df_.iterrows():\n",
    "\n",
    "#         if row_no % 100 == 0:\n",
    "#             print(row_no, time.time() - t)\n",
    "#             t = time.time()\n",
    "\n",
    "        filename = './data/data_v_7_stc/audio/' + row['filename']\n",
    "        data, rate = librosa.load(filename, sr=F)\n",
    "\n",
    "        target = row['target']\n",
    "        for i in range(0, data.shape[0] - T, T):\n",
    "            sample = data[i: i + T]\n",
    "            if sample.shape[0] < T:\n",
    "                continue\n",
    "            target_samples[target].append(sample)\n",
    "\n",
    "    for target in target_samples.keys():\n",
    "        random.shuffle(target_samples[target])\n",
    "\n",
    "    return target_samples"
   ]
  },
  {
   "cell_type": "code",
   "execution_count": 17,
   "metadata": {
    "ExecuteTime": {
     "end_time": "2018-05-05T23:24:34.399763Z",
     "start_time": "2018-05-05T23:23:10.025540Z"
    }
   },
   "outputs": [],
   "source": [
    "test_target_samples = build_target_samples(df_test)"
   ]
  },
  {
   "cell_type": "code",
   "execution_count": 24,
   "metadata": {
    "ExecuteTime": {
     "end_time": "2018-05-05T23:38:37.584169Z",
     "start_time": "2018-05-05T23:38:36.253799Z"
    }
   },
   "outputs": [],
   "source": [
    "with open('./data/test_8000.pkl', 'wb') as f:\n",
    "    f.write(pickle.dumps(test_target_samples))"
   ]
  },
  {
   "cell_type": "code",
   "execution_count": 22,
   "metadata": {
    "ExecuteTime": {
     "end_time": "2018-05-05T23:38:10.685649Z",
     "start_time": "2018-05-05T23:25:20.037487Z"
    }
   },
   "outputs": [],
   "source": [
    "train_target_samples = build_target_samples(df_train)"
   ]
  },
  {
   "cell_type": "code",
   "execution_count": 25,
   "metadata": {
    "ExecuteTime": {
     "end_time": "2018-05-05T23:38:53.601634Z",
     "start_time": "2018-05-05T23:38:42.420543Z"
    }
   },
   "outputs": [],
   "source": [
    "with open('./data/train_8000.pkl', 'wb') as f:\n",
    "    f.write(pickle.dumps(train_target_samples))"
   ]
  },
  {
   "cell_type": "markdown",
   "metadata": {},
   "source": [
    "# build datasets"
   ]
  },
  {
   "cell_type": "code",
   "execution_count": 2,
   "metadata": {
    "ExecuteTime": {
     "end_time": "2018-05-06T00:11:24.951724Z",
     "start_time": "2018-05-06T00:11:24.823312Z"
    }
   },
   "outputs": [],
   "source": [
    "with open('./data/test_8000.pkl', 'rb') as f:\n",
    "    test_target_samples = pickle.loads(f.read())"
   ]
  },
  {
   "cell_type": "code",
   "execution_count": 3,
   "metadata": {
    "ExecuteTime": {
     "end_time": "2018-05-06T00:12:22.616971Z",
     "start_time": "2018-05-06T00:12:21.487584Z"
    }
   },
   "outputs": [],
   "source": [
    "with open('./data/train_8000.pkl', 'rb') as f:\n",
    "    train_target_samples = pickle.loads(f.read())"
   ]
  },
  {
   "cell_type": "code",
   "execution_count": 4,
   "metadata": {
    "ExecuteTime": {
     "end_time": "2018-05-06T00:12:24.657571Z",
     "start_time": "2018-05-06T00:12:24.652579Z"
    }
   },
   "outputs": [],
   "source": [
    "def build_dataset(target_samples):\n",
    "    min_n = None\n",
    "    for target, samples in target_samples.items():\n",
    "        if min_n is None or len(samples) < min_n:\n",
    "            min_n = len(samples)\n",
    "    \n",
    "    x, y = [], []\n",
    "    for target, samples in target_samples.items():\n",
    "        x += samples[:min_n]\n",
    "        y += [target2ind[target] for _ in range(min_n)]\n",
    "\n",
    "    x = np.vstack(x)\n",
    "    y = np.array(y)\n",
    "    \n",
    "    indices = list(range(x.shape[0]))\n",
    "    random.shuffle(indices)\n",
    "\n",
    "    x = x[indices]\n",
    "    y = y[indices]\n",
    "    \n",
    "    return x, y"
   ]
  },
  {
   "cell_type": "code",
   "execution_count": 12,
   "metadata": {
    "ExecuteTime": {
     "end_time": "2018-05-06T00:15:34.956268Z",
     "start_time": "2018-05-06T00:15:34.103820Z"
    }
   },
   "outputs": [],
   "source": [
    "x_train, y_train = build_dataset(train_target_samples)\n",
    "x_test, y_test = build_dataset(test_target_samples)"
   ]
  },
  {
   "cell_type": "code",
   "execution_count": 13,
   "metadata": {
    "ExecuteTime": {
     "end_time": "2018-05-06T00:15:36.414652Z",
     "start_time": "2018-05-06T00:15:36.411867Z"
    }
   },
   "outputs": [],
   "source": [
    "x_train = np.expand_dims(x_train, axis=2)\n",
    "x_test = np.expand_dims(x_test, axis=2)"
   ]
  },
  {
   "cell_type": "markdown",
   "metadata": {},
   "source": [
    "# train model"
   ]
  },
  {
   "cell_type": "code",
   "execution_count": 14,
   "metadata": {
    "ExecuteTime": {
     "end_time": "2018-05-06T00:15:39.962658Z",
     "start_time": "2018-05-06T00:15:39.796860Z"
    }
   },
   "outputs": [],
   "source": [
    "model = Sequential()\n",
    "model.add(Conv1D(128, 8, strides=2, input_shape=(8000, 1)))\n",
    "model.add(LeakyReLU())\n",
    "model.add(MaxPool1D(2))\n",
    "model.add(Conv1D(64, 8, strides=2))\n",
    "model.add(LeakyReLU())\n",
    "model.add(MaxPool1D(2))\n",
    "model.add(Conv1D(32, 8, strides=2))\n",
    "model.add(LeakyReLU())\n",
    "model.add(MaxPool1D(2))\n",
    "model.add(Conv1D(16, 8, strides=2))\n",
    "model.add(LeakyReLU())\n",
    "model.add(MaxPool1D(4))\n",
    "model.add(Flatten())\n",
    "model.add(Dense(64, activation='relu'))\n",
    "model.add(Dense(128, activation='relu'))\n",
    "model.add(Dense(8, activation='softmax'))"
   ]
  },
  {
   "cell_type": "code",
   "execution_count": 15,
   "metadata": {
    "ExecuteTime": {
     "end_time": "2018-05-06T00:15:40.913397Z",
     "start_time": "2018-05-06T00:15:40.868724Z"
    }
   },
   "outputs": [],
   "source": [
    "model.compile(optimizer='adam', loss='categorical_crossentropy', metrics=['accuracy'])"
   ]
  },
  {
   "cell_type": "code",
   "execution_count": 16,
   "metadata": {
    "ExecuteTime": {
     "end_time": "2018-05-06T00:32:32.934917Z",
     "start_time": "2018-05-06T00:15:42.113443Z"
    }
   },
   "outputs": [
    {
     "name": "stdout",
     "output_type": "stream",
     "text": [
      "Train on 27840 samples, validate on 2936 samples\n",
      "Epoch 1/20\n",
      "27840/27840 [==============================] - 52s 2ms/step - loss: 1.3191 - acc: 0.5261 - val_loss: 1.0176 - val_acc: 0.6488\n",
      "Epoch 2/20\n",
      "27840/27840 [==============================] - 50s 2ms/step - loss: 0.8782 - acc: 0.7049 - val_loss: 0.7497 - val_acc: 0.7343\n",
      "Epoch 3/20\n",
      "27840/27840 [==============================] - 50s 2ms/step - loss: 0.7323 - acc: 0.7542 - val_loss: 0.8068 - val_acc: 0.7170\n",
      "Epoch 4/20\n",
      "27840/27840 [==============================] - 50s 2ms/step - loss: 0.6350 - acc: 0.7891 - val_loss: 0.6041 - val_acc: 0.7970\n",
      "Epoch 5/20\n",
      "27840/27840 [==============================] - 50s 2ms/step - loss: 0.5821 - acc: 0.8060 - val_loss: 0.5791 - val_acc: 0.8055\n",
      "Epoch 6/20\n",
      "27840/27840 [==============================] - 50s 2ms/step - loss: 0.5434 - acc: 0.8219 - val_loss: 0.6387 - val_acc: 0.7858\n",
      "Epoch 7/20\n",
      "27840/27840 [==============================] - 50s 2ms/step - loss: 0.5194 - acc: 0.8314 - val_loss: 0.6048 - val_acc: 0.8134\n",
      "Epoch 8/20\n",
      "27840/27840 [==============================] - 50s 2ms/step - loss: 0.4667 - acc: 0.8455 - val_loss: 0.4881 - val_acc: 0.8518\n",
      "Epoch 9/20\n",
      "27840/27840 [==============================] - 50s 2ms/step - loss: 0.4461 - acc: 0.8531 - val_loss: 0.5345 - val_acc: 0.8498\n",
      "Epoch 10/20\n",
      "27840/27840 [==============================] - 50s 2ms/step - loss: 0.4520 - acc: 0.8545 - val_loss: 0.5053 - val_acc: 0.8382\n",
      "Epoch 11/20\n",
      "27840/27840 [==============================] - 50s 2ms/step - loss: 0.4451 - acc: 0.8581 - val_loss: 0.5822 - val_acc: 0.8266\n",
      "Epoch 12/20\n",
      "27840/27840 [==============================] - 50s 2ms/step - loss: 0.3777 - acc: 0.8752 - val_loss: 0.5418 - val_acc: 0.8464\n",
      "Epoch 13/20\n",
      "27840/27840 [==============================] - 50s 2ms/step - loss: 0.3716 - acc: 0.8790 - val_loss: 0.5171 - val_acc: 0.8454\n",
      "Epoch 14/20\n",
      "27840/27840 [==============================] - 50s 2ms/step - loss: 0.3741 - acc: 0.8778 - val_loss: 0.6634 - val_acc: 0.8014\n",
      "Epoch 15/20\n",
      "27840/27840 [==============================] - 50s 2ms/step - loss: 0.3713 - acc: 0.8809 - val_loss: 0.4718 - val_acc: 0.8716\n",
      "Epoch 16/20\n",
      "27840/27840 [==============================] - 50s 2ms/step - loss: 0.3687 - acc: 0.8822 - val_loss: 0.4618 - val_acc: 0.8740\n",
      "Epoch 17/20\n",
      "27840/27840 [==============================] - 50s 2ms/step - loss: 0.3384 - acc: 0.8904 - val_loss: 0.4781 - val_acc: 0.8767\n",
      "Epoch 18/20\n",
      "27840/27840 [==============================] - 50s 2ms/step - loss: 0.3134 - acc: 0.8970 - val_loss: 0.4549 - val_acc: 0.8760\n",
      "Epoch 19/20\n",
      "27840/27840 [==============================] - 50s 2ms/step - loss: 0.3059 - acc: 0.9009 - val_loss: 0.4810 - val_acc: 0.8784\n",
      "Epoch 20/20\n",
      "27840/27840 [==============================] - 50s 2ms/step - loss: 0.3143 - acc: 0.8995 - val_loss: 0.4954 - val_acc: 0.8702\n"
     ]
    }
   ],
   "source": [
    "history = model.fit(x_train, to_categorical(y_train), batch_size=32, epochs=20, validation_data=[x_test, to_categorical(y_test)])"
   ]
  },
  {
   "cell_type": "code",
   "execution_count": 19,
   "metadata": {
    "ExecuteTime": {
     "end_time": "2018-05-06T00:35:04.754934Z",
     "start_time": "2018-05-06T00:35:04.584365Z"
    }
   },
   "outputs": [
    {
     "data": {
      "image/png": "[encoded data removed]",
      "text/plain": [
       "<Figure size 432x288 with 1 Axes>"
      ]
     },
     "metadata": {},
     "output_type": "display_data"
    }
   ],
   "source": [
    "plt.plot(history.history['loss'], label='loss')\n",
    "plt.plot(history.history['val_loss'], label='val_loss')\n",
    "plt.legend()\n",
    "plt.show()"
   ]
  },
  {
   "cell_type": "code",
   "execution_count": 20,
   "metadata": {
    "ExecuteTime": {
     "end_time": "2018-05-06T00:35:06.607644Z",
     "start_time": "2018-05-06T00:35:06.360551Z"
    }
   },
   "outputs": [
    {
     "data": {
      "image/png": "[encoded data removed]",
      "text/plain": [
       "<Figure size 432x288 with 1 Axes>"
      ]
     },
     "metadata": {},
     "output_type": "display_data"
    }
   ],
   "source": [
    "plt.plot(history.history['acc'], label='acc')\n",
    "plt.plot(history.history['val_acc'], label='val_acc')\n",
    "plt.legend()\n",
    "plt.show()"
   ]
  },
  {
   "cell_type": "code",
   "execution_count": 21,
   "metadata": {
    "ExecuteTime": {
     "end_time": "2018-05-06T00:35:15.745011Z",
     "start_time": "2018-05-06T00:35:15.519580Z"
    }
   },
   "outputs": [],
   "source": [
    "model.save('./data/baseline_clean1.pkl')"
   ]
  },
  {
   "cell_type": "code",
   "execution_count": null,
   "metadata": {},
   "outputs": [],
   "source": []
  }
 ],
 "metadata": {
  "kernelspec": {
   "display_name": "Python 3",
   "language": "python",
   "name": "python3"
  },
  "language_info": {
   "codemirror_mode": {
    "name": "ipython",
    "version": 3
   },
   "file_extension": ".py",
   "mimetype": "text/x-python",
   "name": "python",
   "nbconvert_exporter": "python",
   "pygments_lexer": "ipython3",
   "version": "3.5.3"
  },
  "toc": {
   "nav_menu": {},
   "number_sections": true,
   "sideBar": true,
   "skip_h1_title": false,
   "toc_cell": true,
   "toc_position": {},
   "toc_section_display": "block",
   "toc_window_display": false
  }
 },
 "nbformat": 4,
 "nbformat_minor": 2
}
