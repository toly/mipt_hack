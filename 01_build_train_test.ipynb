{
 "cells": [
  {
   "cell_type": "markdown",
   "metadata": {
    "toc": true
   },
   "source": [
    "<h1>Table of Contents<span class=\"tocSkip\"></span></h1>\n",
    "<div class=\"toc\" style=\"margin-top: 1em;\"><ul class=\"toc-item\"><li><span><a href=\"#load-and-research-data\" data-toc-modified-id=\"load-and-research-data-1\"><span class=\"toc-item-num\">1&nbsp;&nbsp;</span>load and research data</a></span></li><li><span><a href=\"#split-train-test\" data-toc-modified-id=\"split-train-test-2\"><span class=\"toc-item-num\">2&nbsp;&nbsp;</span>split train test</a></span><ul class=\"toc-item\"><li><span><a href=\"#discart-low-second\" data-toc-modified-id=\"discart-low-second-2.1\"><span class=\"toc-item-num\">2.1&nbsp;&nbsp;</span>discart low second</a></span></li><li><span><a href=\"#fill-zeros\" data-toc-modified-id=\"fill-zeros-2.2\"><span class=\"toc-item-num\">2.2&nbsp;&nbsp;</span>fill zeros</a></span></li></ul></li><li><span><a href=\"#build-datasets\" data-toc-modified-id=\"build-datasets-3\"><span class=\"toc-item-num\">3&nbsp;&nbsp;</span>build datasets</a></span><ul class=\"toc-item\"><li><span><a href=\"#zeros-samples\" data-toc-modified-id=\"zeros-samples-3.1\"><span class=\"toc-item-num\">3.1&nbsp;&nbsp;</span>zeros samples</a></span></li></ul></li><li><span><a href=\"#train-model\" data-toc-modified-id=\"train-model-4\"><span class=\"toc-item-num\">4&nbsp;&nbsp;</span>train model</a></span></li><li><span><a href=\"#zeros\" data-toc-modified-id=\"zeros-5\"><span class=\"toc-item-num\">5&nbsp;&nbsp;</span>zeros</a></span></li></ul></div>"
   ]
  },
  {
   "cell_type": "code",
   "execution_count": 1,
   "metadata": {
    "ExecuteTime": {
     "end_time": "2018-05-06T07:34:54.735009Z",
     "start_time": "2018-05-06T07:34:39.402960Z"
    }
   },
   "outputs": [
    {
     "name": "stderr",
     "output_type": "stream",
     "text": [
      "/home/toly/projects/mipt_hack/env/lib/python3.5/site-packages/h5py/__init__.py:36: FutureWarning: Conversion of the second argument of issubdtype from `float` to `np.floating` is deprecated. In future, it will be treated as `np.float64 == np.dtype(float).type`.\n",
      "  from ._conv import register_converters as _register_converters\n",
      "Using TensorFlow backend.\n"
     ]
    }
   ],
   "source": [
    "import time\n",
    "import pickle\n",
    "import random\n",
    "import librosa\n",
    "from collections import Counter, defaultdict\n",
    "import numpy as np\n",
    "import pandas as pd\n",
    "\n",
    "from keras.models import Sequential\n",
    "from keras.layers import Dense, LeakyReLU, Dropout, Conv1D, MaxPool1D, Flatten\n",
    "from keras.utils import to_categorical\n",
    "\n",
    "import matplotlib.pyplot as plt"
   ]
  },
  {
   "cell_type": "markdown",
   "metadata": {},
   "source": [
    "# load and research data"
   ]
  },
  {
   "cell_type": "code",
   "execution_count": 2,
   "metadata": {
    "ExecuteTime": {
     "end_time": "2018-05-06T07:34:55.000425Z",
     "start_time": "2018-05-06T07:34:54.736756Z"
    }
   },
   "outputs": [],
   "source": [
    "df = pd.read_csv('./data/data_v_7_stc/meta/fold1_train.txt', sep='\\t')"
   ]
  },
  {
   "cell_type": "code",
   "execution_count": 3,
   "metadata": {
    "ExecuteTime": {
     "end_time": "2018-05-06T07:34:55.005307Z",
     "start_time": "2018-05-06T07:34:55.002117Z"
    }
   },
   "outputs": [],
   "source": [
    "df.columns = ['filename', 'xz1', 'xz2', 'time', 'target']"
   ]
  },
  {
   "cell_type": "code",
   "execution_count": 4,
   "metadata": {
    "ExecuteTime": {
     "end_time": "2018-05-06T07:34:55.214371Z",
     "start_time": "2018-05-06T07:34:55.067813Z"
    }
   },
   "outputs": [
    {
     "data": {
      "text/html": [
       "<div>\n",
       "<style scoped>\n",
       "    .dataframe tbody tr th:only-of-type {\n",
       "        vertical-align: middle;\n",
       "    }\n",
       "\n",
       "    .dataframe tbody tr th {\n",
       "        vertical-align: top;\n",
       "    }\n",
       "\n",
       "    .dataframe thead th {\n",
       "        text-align: right;\n",
       "    }\n",
       "</style>\n",
       "<table border=\"1\" class=\"dataframe\">\n",
       "  <thead>\n",
       "    <tr style=\"text-align: right;\">\n",
       "      <th></th>\n",
       "      <th>filename</th>\n",
       "      <th>xz1</th>\n",
       "      <th>xz2</th>\n",
       "      <th>time</th>\n",
       "      <th>target</th>\n",
       "    </tr>\n",
       "  </thead>\n",
       "  <tbody>\n",
       "    <tr>\n",
       "      <th>0</th>\n",
       "      <td>background_0001_time_stretch_1.wav</td>\n",
       "      <td>office</td>\n",
       "      <td>0.0</td>\n",
       "      <td>9.87941</td>\n",
       "      <td>background</td>\n",
       "    </tr>\n",
       "  </tbody>\n",
       "</table>\n",
       "</div>"
      ],
      "text/plain": [
       "                             filename     xz1  xz2     time      target\n",
       "0  background_0001_time_stretch_1.wav  office  0.0  9.87941  background"
      ]
     },
     "execution_count": 4,
     "metadata": {},
     "output_type": "execute_result"
    }
   ],
   "source": [
    "df.head(1)"
   ]
  },
  {
   "cell_type": "code",
   "execution_count": 5,
   "metadata": {
    "ExecuteTime": {
     "end_time": "2018-05-06T07:34:55.505987Z",
     "start_time": "2018-05-06T07:34:55.481383Z"
    }
   },
   "outputs": [
    {
     "data": {
      "text/plain": [
       "door             2732\n",
       "tool             1327\n",
       "knocking_door    1324\n",
       "bags              988\n",
       "keyboard          980\n",
       "background        899\n",
       "ring              570\n",
       "speech            220\n",
       "Name: target, dtype: int64"
      ]
     },
     "execution_count": 5,
     "metadata": {},
     "output_type": "execute_result"
    }
   ],
   "source": [
    "df['target'].value_counts()"
   ]
  },
  {
   "cell_type": "code",
   "execution_count": 6,
   "metadata": {
    "ExecuteTime": {
     "end_time": "2018-05-06T07:34:56.114107Z",
     "start_time": "2018-05-06T07:34:56.089273Z"
    }
   },
   "outputs": [],
   "source": [
    "df_train = df.sample(frac=0.9)\n",
    "df_test = df[~df.index.isin(df_train.index)]"
   ]
  },
  {
   "cell_type": "code",
   "execution_count": 7,
   "metadata": {
    "ExecuteTime": {
     "end_time": "2018-05-06T07:34:57.089240Z",
     "start_time": "2018-05-06T07:34:57.082516Z"
    }
   },
   "outputs": [
    {
     "data": {
      "text/plain": [
       "door             2450\n",
       "tool             1194\n",
       "knocking_door    1194\n",
       "bags              899\n",
       "keyboard          880\n",
       "background        804\n",
       "ring              522\n",
       "speech            193\n",
       "Name: target, dtype: int64"
      ]
     },
     "execution_count": 7,
     "metadata": {},
     "output_type": "execute_result"
    }
   ],
   "source": [
    "df_train['target'].value_counts()"
   ]
  },
  {
   "cell_type": "code",
   "execution_count": 8,
   "metadata": {
    "ExecuteTime": {
     "end_time": "2018-05-06T07:34:57.717964Z",
     "start_time": "2018-05-06T07:34:57.713818Z"
    }
   },
   "outputs": [],
   "source": [
    "targets_list = list(df['target'].unique())\n",
    "targets_list.sort()\n",
    "target2ind = {\n",
    "    target: i\n",
    "    for i, target in enumerate(targets_list)\n",
    "}"
   ]
  },
  {
   "cell_type": "markdown",
   "metadata": {
    "ExecuteTime": {
     "end_time": "2018-05-05T17:15:54.526493Z",
     "start_time": "2018-05-05T17:15:54.515789Z"
    }
   },
   "source": [
    "# split train test"
   ]
  },
  {
   "cell_type": "code",
   "execution_count": 10,
   "metadata": {
    "ExecuteTime": {
     "end_time": "2018-05-06T07:35:11.463213Z",
     "start_time": "2018-05-06T07:35:11.460573Z"
    }
   },
   "outputs": [],
   "source": [
    "T = 8000 # sample size\n",
    "F = 8000 # frequency"
   ]
  },
  {
   "cell_type": "code",
   "execution_count": 11,
   "metadata": {
    "ExecuteTime": {
     "end_time": "2018-05-06T07:35:11.934537Z",
     "start_time": "2018-05-06T07:35:11.929284Z"
    }
   },
   "outputs": [],
   "source": [
    "def build_target_samples(df_, fill_zeros=False):\n",
    "    target_samples = defaultdict(list) # target -> [sample1, sample2, ...]\n",
    "\n",
    "    for row_no, row in df_.iterrows():\n",
    "\n",
    "        filename = './data/data_v_7_stc/audio/' + row['filename']\n",
    "        data, rate = librosa.load(filename, sr=F)\n",
    "\n",
    "        target = row['target']\n",
    "        \n",
    "        for i in range(0, data.shape[0] - T, T):\n",
    "            sample = data[i: i + T]\n",
    "            if sample.shape[0] < T:\n",
    "                if fill_zeros:\n",
    "                    sample = np.array(list(sample) + [0 for _ in range(T - sample.shape[0])])\n",
    "                else:\n",
    "                    continue\n",
    "            target_samples[target].append(sample)\n",
    "\n",
    "    for target in target_samples.keys():\n",
    "        random.shuffle(target_samples[target])\n",
    "\n",
    "    return target_samples"
   ]
  },
  {
   "cell_type": "markdown",
   "metadata": {},
   "source": [
    "## discart low second"
   ]
  },
  {
   "cell_type": "code",
   "execution_count": 17,
   "metadata": {
    "ExecuteTime": {
     "end_time": "2018-05-05T23:24:34.399763Z",
     "start_time": "2018-05-05T23:23:10.025540Z"
    }
   },
   "outputs": [],
   "source": [
    "test_target_samples = build_target_samples(df_test)"
   ]
  },
  {
   "cell_type": "code",
   "execution_count": 24,
   "metadata": {
    "ExecuteTime": {
     "end_time": "2018-05-05T23:38:37.584169Z",
     "start_time": "2018-05-05T23:38:36.253799Z"
    }
   },
   "outputs": [],
   "source": [
    "with open('./data/test_8000.pkl', 'wb') as f:\n",
    "    f.write(pickle.dumps(test_target_samples))"
   ]
  },
  {
   "cell_type": "code",
   "execution_count": 22,
   "metadata": {
    "ExecuteTime": {
     "end_time": "2018-05-05T23:38:10.685649Z",
     "start_time": "2018-05-05T23:25:20.037487Z"
    }
   },
   "outputs": [],
   "source": [
    "train_target_samples = build_target_samples(df_train)"
   ]
  },
  {
   "cell_type": "code",
   "execution_count": 25,
   "metadata": {
    "ExecuteTime": {
     "end_time": "2018-05-05T23:38:53.601634Z",
     "start_time": "2018-05-05T23:38:42.420543Z"
    }
   },
   "outputs": [],
   "source": [
    "with open('./data/train_8000.pkl', 'wb') as f:\n",
    "    f.write(pickle.dumps(train_target_samples))"
   ]
  },
  {
   "cell_type": "markdown",
   "metadata": {},
   "source": [
    "## fill zeros"
   ]
  },
  {
   "cell_type": "code",
   "execution_count": 12,
   "metadata": {
    "ExecuteTime": {
     "end_time": "2018-05-06T07:35:15.870701Z",
     "start_time": "2018-05-06T07:35:15.591946Z"
    },
    "collapsed": true
   },
   "outputs": [
    {
     "ename": "FileNotFoundError",
     "evalue": "[Errno 2] No such file or directory: '/home/toly/projects/mipt_hack/data/data_v_7_stc/audio/background_0001_time_stretch_4.wav'",
     "output_type": "error",
     "traceback": [
      "\u001b[0;31m---------------------------------------------------------------------------\u001b[0m",
      "\u001b[0;31mFileNotFoundError\u001b[0m                         Traceback (most recent call last)",
      "\u001b[0;32m<ipython-input-12-42b21928cfea>\u001b[0m in \u001b[0;36m<module>\u001b[0;34m()\u001b[0m\n\u001b[0;32m----> 1\u001b[0;31m \u001b[0mtest_target_samples_zeros\u001b[0m \u001b[0;34m=\u001b[0m \u001b[0mbuild_target_samples\u001b[0m\u001b[0;34m(\u001b[0m\u001b[0mdf_test\u001b[0m\u001b[0;34m,\u001b[0m \u001b[0mfill_zeros\u001b[0m\u001b[0;34m=\u001b[0m\u001b[0;32mTrue\u001b[0m\u001b[0;34m)\u001b[0m\u001b[0;34m\u001b[0m\u001b[0m\n\u001b[0m",
      "\u001b[0;32m<ipython-input-11-94152afa25f1>\u001b[0m in \u001b[0;36mbuild_target_samples\u001b[0;34m(df_, fill_zeros)\u001b[0m\n\u001b[1;32m      5\u001b[0m \u001b[0;34m\u001b[0m\u001b[0m\n\u001b[1;32m      6\u001b[0m         \u001b[0mfilename\u001b[0m \u001b[0;34m=\u001b[0m \u001b[0;34m'./data/data_v_7_stc/audio/'\u001b[0m \u001b[0;34m+\u001b[0m \u001b[0mrow\u001b[0m\u001b[0;34m[\u001b[0m\u001b[0;34m'filename'\u001b[0m\u001b[0;34m]\u001b[0m\u001b[0;34m\u001b[0m\u001b[0m\n\u001b[0;32m----> 7\u001b[0;31m         \u001b[0mdata\u001b[0m\u001b[0;34m,\u001b[0m \u001b[0mrate\u001b[0m \u001b[0;34m=\u001b[0m \u001b[0mlibrosa\u001b[0m\u001b[0;34m.\u001b[0m\u001b[0mload\u001b[0m\u001b[0;34m(\u001b[0m\u001b[0mfilename\u001b[0m\u001b[0;34m,\u001b[0m \u001b[0msr\u001b[0m\u001b[0;34m=\u001b[0m\u001b[0mF\u001b[0m\u001b[0;34m)\u001b[0m\u001b[0;34m\u001b[0m\u001b[0m\n\u001b[0m\u001b[1;32m      8\u001b[0m \u001b[0;34m\u001b[0m\u001b[0m\n\u001b[1;32m      9\u001b[0m         \u001b[0mtarget\u001b[0m \u001b[0;34m=\u001b[0m \u001b[0mrow\u001b[0m\u001b[0;34m[\u001b[0m\u001b[0;34m'target'\u001b[0m\u001b[0;34m]\u001b[0m\u001b[0;34m\u001b[0m\u001b[0m\n",
      "\u001b[0;32m~/projects/mipt_hack/env/lib/python3.5/site-packages/librosa/core/audio.py\u001b[0m in \u001b[0;36mload\u001b[0;34m(path, sr, mono, offset, duration, dtype, res_type)\u001b[0m\n\u001b[1;32m    110\u001b[0m \u001b[0;34m\u001b[0m\u001b[0m\n\u001b[1;32m    111\u001b[0m     \u001b[0my\u001b[0m \u001b[0;34m=\u001b[0m \u001b[0;34m[\u001b[0m\u001b[0;34m]\u001b[0m\u001b[0;34m\u001b[0m\u001b[0m\n\u001b[0;32m--> 112\u001b[0;31m     \u001b[0;32mwith\u001b[0m \u001b[0maudioread\u001b[0m\u001b[0;34m.\u001b[0m\u001b[0maudio_open\u001b[0m\u001b[0;34m(\u001b[0m\u001b[0mos\u001b[0m\u001b[0;34m.\u001b[0m\u001b[0mpath\u001b[0m\u001b[0;34m.\u001b[0m\u001b[0mrealpath\u001b[0m\u001b[0;34m(\u001b[0m\u001b[0mpath\u001b[0m\u001b[0;34m)\u001b[0m\u001b[0;34m)\u001b[0m \u001b[0;32mas\u001b[0m \u001b[0minput_file\u001b[0m\u001b[0;34m:\u001b[0m\u001b[0;34m\u001b[0m\u001b[0m\n\u001b[0m\u001b[1;32m    113\u001b[0m         \u001b[0msr_native\u001b[0m \u001b[0;34m=\u001b[0m \u001b[0minput_file\u001b[0m\u001b[0;34m.\u001b[0m\u001b[0msamplerate\u001b[0m\u001b[0;34m\u001b[0m\u001b[0m\n\u001b[1;32m    114\u001b[0m         \u001b[0mn_channels\u001b[0m \u001b[0;34m=\u001b[0m \u001b[0minput_file\u001b[0m\u001b[0;34m.\u001b[0m\u001b[0mchannels\u001b[0m\u001b[0;34m\u001b[0m\u001b[0m\n",
      "\u001b[0;32m~/projects/mipt_hack/env/lib/python3.5/site-packages/audioread/__init__.py\u001b[0m in \u001b[0;36maudio_open\u001b[0;34m(path)\u001b[0m\n\u001b[1;32m     78\u001b[0m     \u001b[0;32mfrom\u001b[0m \u001b[0;34m.\u001b[0m \u001b[0;32mimport\u001b[0m \u001b[0mrawread\u001b[0m\u001b[0;34m\u001b[0m\u001b[0m\n\u001b[1;32m     79\u001b[0m     \u001b[0;32mtry\u001b[0m\u001b[0;34m:\u001b[0m\u001b[0;34m\u001b[0m\u001b[0m\n\u001b[0;32m---> 80\u001b[0;31m         \u001b[0;32mreturn\u001b[0m \u001b[0mrawread\u001b[0m\u001b[0;34m.\u001b[0m\u001b[0mRawAudioFile\u001b[0m\u001b[0;34m(\u001b[0m\u001b[0mpath\u001b[0m\u001b[0;34m)\u001b[0m\u001b[0;34m\u001b[0m\u001b[0m\n\u001b[0m\u001b[1;32m     81\u001b[0m     \u001b[0;32mexcept\u001b[0m \u001b[0mDecodeError\u001b[0m\u001b[0;34m:\u001b[0m\u001b[0;34m\u001b[0m\u001b[0m\n\u001b[1;32m     82\u001b[0m         \u001b[0;32mpass\u001b[0m\u001b[0;34m\u001b[0m\u001b[0m\n",
      "\u001b[0;32m~/projects/mipt_hack/env/lib/python3.5/site-packages/audioread/rawread.py\u001b[0m in \u001b[0;36m__init__\u001b[0;34m(self, filename)\u001b[0m\n\u001b[1;32m     59\u001b[0m     \"\"\"\n\u001b[1;32m     60\u001b[0m     \u001b[0;32mdef\u001b[0m \u001b[0m__init__\u001b[0m\u001b[0;34m(\u001b[0m\u001b[0mself\u001b[0m\u001b[0;34m,\u001b[0m \u001b[0mfilename\u001b[0m\u001b[0;34m)\u001b[0m\u001b[0;34m:\u001b[0m\u001b[0;34m\u001b[0m\u001b[0m\n\u001b[0;32m---> 61\u001b[0;31m         \u001b[0mself\u001b[0m\u001b[0;34m.\u001b[0m\u001b[0m_fh\u001b[0m \u001b[0;34m=\u001b[0m \u001b[0mopen\u001b[0m\u001b[0;34m(\u001b[0m\u001b[0mfilename\u001b[0m\u001b[0;34m,\u001b[0m \u001b[0;34m'rb'\u001b[0m\u001b[0;34m)\u001b[0m\u001b[0;34m\u001b[0m\u001b[0m\n\u001b[0m\u001b[1;32m     62\u001b[0m \u001b[0;34m\u001b[0m\u001b[0m\n\u001b[1;32m     63\u001b[0m         \u001b[0;32mtry\u001b[0m\u001b[0;34m:\u001b[0m\u001b[0;34m\u001b[0m\u001b[0m\n",
      "\u001b[0;31mFileNotFoundError\u001b[0m: [Errno 2] No such file or directory: '/home/toly/projects/mipt_hack/data/data_v_7_stc/audio/background_0001_time_stretch_4.wav'"
     ]
    }
   ],
   "source": [
    "test_target_samples_zeros = build_target_samples(df_test, fill_zeros=True)"
   ]
  },
  {
   "cell_type": "code",
   "execution_count": 12,
   "metadata": {
    "ExecuteTime": {
     "end_time": "2018-05-06T06:54:56.052201Z",
     "start_time": "2018-05-06T06:54:55.247950Z"
    }
   },
   "outputs": [],
   "source": [
    "with open('./data/test_zeros_8000.pkl', 'wb') as f:\n",
    "    f.write(pickle.dumps(test_target_samples_zeros))"
   ]
  },
  {
   "cell_type": "code",
   "execution_count": 13,
   "metadata": {
    "ExecuteTime": {
     "end_time": "2018-05-06T07:07:54.925480Z",
     "start_time": "2018-05-06T06:54:56.054810Z"
    }
   },
   "outputs": [],
   "source": [
    "train_target_samples_zeros = build_target_samples(df_train, fill_zeros=True)"
   ]
  },
  {
   "cell_type": "code",
   "execution_count": 14,
   "metadata": {
    "ExecuteTime": {
     "end_time": "2018-05-06T07:08:07.564220Z",
     "start_time": "2018-05-06T07:07:54.928142Z"
    }
   },
   "outputs": [],
   "source": [
    "with open('./data/train_zeros_8000.pkl', 'wb') as f:\n",
    "    f.write(pickle.dumps(train_target_samples_zeros))"
   ]
  },
  {
   "cell_type": "markdown",
   "metadata": {},
   "source": [
    "# build datasets"
   ]
  },
  {
   "cell_type": "code",
   "execution_count": 2,
   "metadata": {
    "ExecuteTime": {
     "end_time": "2018-05-06T00:11:24.951724Z",
     "start_time": "2018-05-06T00:11:24.823312Z"
    }
   },
   "outputs": [],
   "source": [
    "with open('./data/test_8000.pkl', 'rb') as f:\n",
    "    test_target_samples = pickle.loads(f.read())"
   ]
  },
  {
   "cell_type": "code",
   "execution_count": 3,
   "metadata": {
    "ExecuteTime": {
     "end_time": "2018-05-06T00:12:22.616971Z",
     "start_time": "2018-05-06T00:12:21.487584Z"
    }
   },
   "outputs": [],
   "source": [
    "with open('./data/train_8000.pkl', 'rb') as f:\n",
    "    train_target_samples = pickle.loads(f.read())"
   ]
  },
  {
   "cell_type": "code",
   "execution_count": 13,
   "metadata": {
    "ExecuteTime": {
     "end_time": "2018-05-06T07:35:37.782178Z",
     "start_time": "2018-05-06T07:35:37.777278Z"
    }
   },
   "outputs": [],
   "source": [
    "def build_dataset(target_samples):\n",
    "    min_n = None\n",
    "    for target, samples in target_samples.items():\n",
    "        if min_n is None or len(samples) < min_n:\n",
    "            min_n = len(samples)\n",
    "    \n",
    "    x, y = [], []\n",
    "    for target, samples in target_samples.items():\n",
    "        x += samples[:min_n]\n",
    "        y += [target2ind[target] for _ in range(min_n)]\n",
    "\n",
    "    x = np.vstack(x)\n",
    "    y = np.array(y)\n",
    "    \n",
    "    indices = list(range(x.shape[0]))\n",
    "    random.shuffle(indices)\n",
    "\n",
    "    x = x[indices]\n",
    "    y = y[indices]\n",
    "    \n",
    "    return x, y"
   ]
  },
  {
   "cell_type": "code",
   "execution_count": 12,
   "metadata": {
    "ExecuteTime": {
     "end_time": "2018-05-06T00:15:34.956268Z",
     "start_time": "2018-05-06T00:15:34.103820Z"
    }
   },
   "outputs": [],
   "source": [
    "x_train, y_train = build_dataset(train_target_samples)\n",
    "x_test, y_test = build_dataset(test_target_samples)"
   ]
  },
  {
   "cell_type": "code",
   "execution_count": 13,
   "metadata": {
    "ExecuteTime": {
     "end_time": "2018-05-06T00:15:36.414652Z",
     "start_time": "2018-05-06T00:15:36.411867Z"
    }
   },
   "outputs": [],
   "source": [
    "x_train = np.expand_dims(x_train, axis=2)\n",
    "x_test = np.expand_dims(x_test, axis=2)"
   ]
  },
  {
   "cell_type": "markdown",
   "metadata": {},
   "source": [
    "## zeros samples"
   ]
  },
  {
   "cell_type": "code",
   "execution_count": 14,
   "metadata": {
    "ExecuteTime": {
     "end_time": "2018-05-06T07:35:44.459083Z",
     "start_time": "2018-05-06T07:35:44.330690Z"
    }
   },
   "outputs": [],
   "source": [
    "with open('./data/test_zeros_8000.pkl', 'rb') as f:\n",
    "    test_target_samples = pickle.loads(f.read())"
   ]
  },
  {
   "cell_type": "code",
   "execution_count": 15,
   "metadata": {
    "ExecuteTime": {
     "end_time": "2018-05-06T07:35:46.439789Z",
     "start_time": "2018-05-06T07:35:45.355230Z"
    }
   },
   "outputs": [],
   "source": [
    "with open('./data/train_zeros_8000.pkl', 'rb') as f:\n",
    "    train_target_samples = pickle.loads(f.read())"
   ]
  },
  {
   "cell_type": "code",
   "execution_count": 16,
   "metadata": {
    "ExecuteTime": {
     "end_time": "2018-05-06T07:35:47.851368Z",
     "start_time": "2018-05-06T07:35:47.026180Z"
    }
   },
   "outputs": [],
   "source": [
    "x_train, y_train = build_dataset(train_target_samples)\n",
    "x_test, y_test = build_dataset(test_target_samples)"
   ]
  },
  {
   "cell_type": "code",
   "execution_count": 17,
   "metadata": {
    "ExecuteTime": {
     "end_time": "2018-05-06T07:35:48.603797Z",
     "start_time": "2018-05-06T07:35:48.600797Z"
    }
   },
   "outputs": [],
   "source": [
    "x_train = np.expand_dims(x_train, axis=2)\n",
    "x_test = np.expand_dims(x_test, axis=2)"
   ]
  },
  {
   "cell_type": "markdown",
   "metadata": {},
   "source": [
    "# train model"
   ]
  },
  {
   "cell_type": "code",
   "execution_count": 14,
   "metadata": {
    "ExecuteTime": {
     "end_time": "2018-05-06T00:15:39.962658Z",
     "start_time": "2018-05-06T00:15:39.796860Z"
    }
   },
   "outputs": [],
   "source": [
    "model = Sequential()\n",
    "model.add(Conv1D(128, 8, strides=2, input_shape=(8000, 1)))\n",
    "model.add(LeakyReLU())\n",
    "model.add(MaxPool1D(2))\n",
    "model.add(Conv1D(64, 8, strides=2))\n",
    "model.add(LeakyReLU())\n",
    "model.add(MaxPool1D(2))\n",
    "model.add(Conv1D(32, 8, strides=2))\n",
    "model.add(LeakyReLU())\n",
    "model.add(MaxPool1D(2))\n",
    "model.add(Conv1D(16, 8, strides=2))\n",
    "model.add(LeakyReLU())\n",
    "model.add(MaxPool1D(4))\n",
    "model.add(Flatten())\n",
    "model.add(Dense(64, activation='relu'))\n",
    "model.add(Dense(128, activation='relu'))\n",
    "model.add(Dense(8, activation='softmax'))"
   ]
  },
  {
   "cell_type": "code",
   "execution_count": 15,
   "metadata": {
    "ExecuteTime": {
     "end_time": "2018-05-06T00:15:40.913397Z",
     "start_time": "2018-05-06T00:15:40.868724Z"
    }
   },
   "outputs": [],
   "source": [
    "model.compile(optimizer='adam', loss='categorical_crossentropy', metrics=['accuracy'])"
   ]
  },
  {
   "cell_type": "code",
   "execution_count": 16,
   "metadata": {
    "ExecuteTime": {
     "end_time": "2018-05-06T00:32:32.934917Z",
     "start_time": "2018-05-06T00:15:42.113443Z"
    }
   },
   "outputs": [
    {
     "name": "stdout",
     "output_type": "stream",
     "text": [
      "Train on 27840 samples, validate on 2936 samples\n",
      "Epoch 1/20\n",
      "27840/27840 [==============================] - 52s 2ms/step - loss: 1.3191 - acc: 0.5261 - val_loss: 1.0176 - val_acc: 0.6488\n",
      "Epoch 2/20\n",
      "27840/27840 [==============================] - 50s 2ms/step - loss: 0.8782 - acc: 0.7049 - val_loss: 0.7497 - val_acc: 0.7343\n",
      "Epoch 3/20\n",
      "27840/27840 [==============================] - 50s 2ms/step - loss: 0.7323 - acc: 0.7542 - val_loss: 0.8068 - val_acc: 0.7170\n",
      "Epoch 4/20\n",
      "27840/27840 [==============================] - 50s 2ms/step - loss: 0.6350 - acc: 0.7891 - val_loss: 0.6041 - val_acc: 0.7970\n",
      "Epoch 5/20\n",
      "27840/27840 [==============================] - 50s 2ms/step - loss: 0.5821 - acc: 0.8060 - val_loss: 0.5791 - val_acc: 0.8055\n",
      "Epoch 6/20\n",
      "27840/27840 [==============================] - 50s 2ms/step - loss: 0.5434 - acc: 0.8219 - val_loss: 0.6387 - val_acc: 0.7858\n",
      "Epoch 7/20\n",
      "27840/27840 [==============================] - 50s 2ms/step - loss: 0.5194 - acc: 0.8314 - val_loss: 0.6048 - val_acc: 0.8134\n",
      "Epoch 8/20\n",
      "27840/27840 [==============================] - 50s 2ms/step - loss: 0.4667 - acc: 0.8455 - val_loss: 0.4881 - val_acc: 0.8518\n",
      "Epoch 9/20\n",
      "27840/27840 [==============================] - 50s 2ms/step - loss: 0.4461 - acc: 0.8531 - val_loss: 0.5345 - val_acc: 0.8498\n",
      "Epoch 10/20\n",
      "27840/27840 [==============================] - 50s 2ms/step - loss: 0.4520 - acc: 0.8545 - val_loss: 0.5053 - val_acc: 0.8382\n",
      "Epoch 11/20\n",
      "27840/27840 [==============================] - 50s 2ms/step - loss: 0.4451 - acc: 0.8581 - val_loss: 0.5822 - val_acc: 0.8266\n",
      "Epoch 12/20\n",
      "27840/27840 [==============================] - 50s 2ms/step - loss: 0.3777 - acc: 0.8752 - val_loss: 0.5418 - val_acc: 0.8464\n",
      "Epoch 13/20\n",
      "27840/27840 [==============================] - 50s 2ms/step - loss: 0.3716 - acc: 0.8790 - val_loss: 0.5171 - val_acc: 0.8454\n",
      "Epoch 14/20\n",
      "27840/27840 [==============================] - 50s 2ms/step - loss: 0.3741 - acc: 0.8778 - val_loss: 0.6634 - val_acc: 0.8014\n",
      "Epoch 15/20\n",
      "27840/27840 [==============================] - 50s 2ms/step - loss: 0.3713 - acc: 0.8809 - val_loss: 0.4718 - val_acc: 0.8716\n",
      "Epoch 16/20\n",
      "27840/27840 [==============================] - 50s 2ms/step - loss: 0.3687 - acc: 0.8822 - val_loss: 0.4618 - val_acc: 0.8740\n",
      "Epoch 17/20\n",
      "27840/27840 [==============================] - 50s 2ms/step - loss: 0.3384 - acc: 0.8904 - val_loss: 0.4781 - val_acc: 0.8767\n",
      "Epoch 18/20\n",
      "27840/27840 [==============================] - 50s 2ms/step - loss: 0.3134 - acc: 0.8970 - val_loss: 0.4549 - val_acc: 0.8760\n",
      "Epoch 19/20\n",
      "27840/27840 [==============================] - 50s 2ms/step - loss: 0.3059 - acc: 0.9009 - val_loss: 0.4810 - val_acc: 0.8784\n",
      "Epoch 20/20\n",
      "27840/27840 [==============================] - 50s 2ms/step - loss: 0.3143 - acc: 0.8995 - val_loss: 0.4954 - val_acc: 0.8702\n"
     ]
    }
   ],
   "source": [
    "history = model.fit(x_train, to_categorical(y_train), batch_size=32, epochs=20, validation_data=[x_test, to_categorical(y_test)])"
   ]
  },
  {
   "cell_type": "code",
   "execution_count": 19,
   "metadata": {
    "ExecuteTime": {
     "end_time": "2018-05-06T00:35:04.754934Z",
     "start_time": "2018-05-06T00:35:04.584365Z"
    }
   },
   "outputs": [
    {
     "data": {
      "image/png": "[encoded data removed]",
      "text/plain": [
       "<Figure size 432x288 with 1 Axes>"
      ]
     },
     "metadata": {},
     "output_type": "display_data"
    }
   ],
   "source": [
    "plt.plot(history.history['loss'], label='loss')\n",
    "plt.plot(history.history['val_loss'], label='val_loss')\n",
    "plt.legend()\n",
    "plt.show()"
   ]
  },
  {
   "cell_type": "code",
   "execution_count": 20,
   "metadata": {
    "ExecuteTime": {
     "end_time": "2018-05-06T00:35:06.607644Z",
     "start_time": "2018-05-06T00:35:06.360551Z"
    }
   },
   "outputs": [
    {
     "data": {
      "image/png": "[encoded data removed]",
      "text/plain": [
       "<Figure size 432x288 with 1 Axes>"
      ]
     },
     "metadata": {},
     "output_type": "display_data"
    }
   ],
   "source": [
    "plt.plot(history.history['acc'], label='acc')\n",
    "plt.plot(history.history['val_acc'], label='val_acc')\n",
    "plt.legend()\n",
    "plt.show()"
   ]
  },
  {
   "cell_type": "code",
   "execution_count": 21,
   "metadata": {
    "ExecuteTime": {
     "end_time": "2018-05-06T00:35:15.745011Z",
     "start_time": "2018-05-06T00:35:15.519580Z"
    }
   },
   "outputs": [],
   "source": [
    "model.save('./data/baseline_clean1.pkl')"
   ]
  },
  {
   "cell_type": "markdown",
   "metadata": {},
   "source": [
    "# zeros"
   ]
  },
  {
   "cell_type": "code",
   "execution_count": 18,
   "metadata": {
    "ExecuteTime": {
     "end_time": "2018-05-06T07:35:57.599237Z",
     "start_time": "2018-05-06T07:35:57.234142Z"
    }
   },
   "outputs": [],
   "source": [
    "model = Sequential()\n",
    "model.add(Conv1D(128, 8, strides=2, input_shape=(8000, 1)))\n",
    "model.add(LeakyReLU())\n",
    "model.add(MaxPool1D(2))\n",
    "model.add(Conv1D(64, 8, strides=2))\n",
    "model.add(LeakyReLU())\n",
    "model.add(MaxPool1D(2))\n",
    "model.add(Conv1D(32, 8, strides=2))\n",
    "model.add(LeakyReLU())\n",
    "model.add(MaxPool1D(2))\n",
    "model.add(Conv1D(16, 8, strides=2))\n",
    "model.add(LeakyReLU())\n",
    "model.add(MaxPool1D(4))\n",
    "model.add(Flatten())\n",
    "model.add(Dense(64, activation='relu'))\n",
    "model.add(Dense(128, activation='relu'))\n",
    "model.add(Dense(8, activation='softmax'))"
   ]
  },
  {
   "cell_type": "code",
   "execution_count": 19,
   "metadata": {
    "ExecuteTime": {
     "end_time": "2018-05-06T07:35:58.293403Z",
     "start_time": "2018-05-06T07:35:58.239603Z"
    }
   },
   "outputs": [],
   "source": [
    "model.compile(optimizer='adam', loss='categorical_crossentropy', metrics=['accuracy'])"
   ]
  },
  {
   "cell_type": "code",
   "execution_count": 20,
   "metadata": {
    "ExecuteTime": {
     "end_time": "2018-05-06T07:52:53.279256Z",
     "start_time": "2018-05-06T07:35:59.121264Z"
    }
   },
   "outputs": [
    {
     "name": "stdout",
     "output_type": "stream",
     "text": [
      "Train on 27744 samples, validate on 2840 samples\n",
      "Epoch 1/20\n",
      "27744/27744 [==============================] - 62s 2ms/step - loss: 1.3020 - acc: 0.5362 - val_loss: 0.9522 - val_acc: 0.6620\n",
      "Epoch 2/20\n",
      "27744/27744 [==============================] - 50s 2ms/step - loss: 0.8554 - acc: 0.7113 - val_loss: 0.8330 - val_acc: 0.7014\n",
      "Epoch 3/20\n",
      "27744/27744 [==============================] - 50s 2ms/step - loss: 0.7112 - acc: 0.7627 - val_loss: 0.6897 - val_acc: 0.7648\n",
      "Epoch 4/20\n",
      "27744/27744 [==============================] - 50s 2ms/step - loss: 0.6132 - acc: 0.8001 - val_loss: 0.7065 - val_acc: 0.7704\n",
      "Epoch 5/20\n",
      "27744/27744 [==============================] - 50s 2ms/step - loss: 0.5470 - acc: 0.8212 - val_loss: 0.6950 - val_acc: 0.7739\n",
      "Epoch 6/20\n",
      "27744/27744 [==============================] - 50s 2ms/step - loss: 0.5133 - acc: 0.8335 - val_loss: 0.5803 - val_acc: 0.8000\n",
      "Epoch 7/20\n",
      "27744/27744 [==============================] - 50s 2ms/step - loss: 0.4767 - acc: 0.8465 - val_loss: 0.5412 - val_acc: 0.8204\n",
      "Epoch 8/20\n",
      "27744/27744 [==============================] - 50s 2ms/step - loss: 0.4624 - acc: 0.8523 - val_loss: 0.7242 - val_acc: 0.7560\n",
      "Epoch 9/20\n",
      "27744/27744 [==============================] - 50s 2ms/step - loss: 0.4292 - acc: 0.8623 - val_loss: 0.5879 - val_acc: 0.8165\n",
      "Epoch 10/20\n",
      "27744/27744 [==============================] - 50s 2ms/step - loss: 0.4154 - acc: 0.8695 - val_loss: 0.6378 - val_acc: 0.8042\n",
      "Epoch 11/20\n",
      "27744/27744 [==============================] - 50s 2ms/step - loss: 0.4492 - acc: 0.8614 - val_loss: 0.5014 - val_acc: 0.8401\n",
      "Epoch 12/20\n",
      "27744/27744 [==============================] - 50s 2ms/step - loss: 0.3987 - acc: 0.8749 - val_loss: 0.4383 - val_acc: 0.8637\n",
      "Epoch 13/20\n",
      "27744/27744 [==============================] - 50s 2ms/step - loss: 0.3661 - acc: 0.8843 - val_loss: 0.4853 - val_acc: 0.8447\n",
      "Epoch 14/20\n",
      "27744/27744 [==============================] - 50s 2ms/step - loss: 0.3317 - acc: 0.8918 - val_loss: 0.4250 - val_acc: 0.8563\n",
      "Epoch 15/20\n",
      "27744/27744 [==============================] - 50s 2ms/step - loss: 0.3475 - acc: 0.8902 - val_loss: 0.3941 - val_acc: 0.8729\n",
      "Epoch 16/20\n",
      "27744/27744 [==============================] - 50s 2ms/step - loss: 0.3595 - acc: 0.8877 - val_loss: 0.4443 - val_acc: 0.8567\n",
      "Epoch 17/20\n",
      "27744/27744 [==============================] - 50s 2ms/step - loss: 0.3092 - acc: 0.9013 - val_loss: 0.5297 - val_acc: 0.8426\n",
      "Epoch 18/20\n",
      "27744/27744 [==============================] - 50s 2ms/step - loss: 0.3159 - acc: 0.9030 - val_loss: 0.4649 - val_acc: 0.8521\n",
      "Epoch 19/20\n",
      "27744/27744 [==============================] - 50s 2ms/step - loss: 0.2862 - acc: 0.9101 - val_loss: 0.4535 - val_acc: 0.8665\n",
      "Epoch 20/20\n",
      "27744/27744 [==============================] - 50s 2ms/step - loss: 0.3085 - acc: 0.9048 - val_loss: 0.4903 - val_acc: 0.8630\n"
     ]
    }
   ],
   "source": [
    "history = model.fit(x_train, to_categorical(y_train), batch_size=32, epochs=20, validation_data=[x_test, to_categorical(y_test)])"
   ]
  },
  {
   "cell_type": "code",
   "execution_count": 21,
   "metadata": {
    "ExecuteTime": {
     "end_time": "2018-05-06T07:52:53.651987Z",
     "start_time": "2018-05-06T07:52:53.281228Z"
    }
   },
   "outputs": [
    {
     "data": {
      "image/png": "[encoded data removed]",
      "text/plain": [
       "<Figure size 432x288 with 1 Axes>"
      ]
     },
     "metadata": {},
     "output_type": "display_data"
    }
   ],
   "source": [
    "plt.plot(history.history['loss'], label='loss')\n",
    "plt.plot(history.history['val_loss'], label='val_loss')\n",
    "plt.legend()\n",
    "plt.show()"
   ]
  },
  {
   "cell_type": "code",
   "execution_count": 22,
   "metadata": {
    "ExecuteTime": {
     "end_time": "2018-05-06T07:52:53.840886Z",
     "start_time": "2018-05-06T07:52:53.654183Z"
    }
   },
   "outputs": [
    {
     "data": {
      "image/png": "[encoded data removed]",
      "text/plain": [
       "<Figure size 432x288 with 1 Axes>"
      ]
     },
     "metadata": {},
     "output_type": "display_data"
    }
   ],
   "source": [
    "plt.plot(history.history['acc'], label='acc')\n",
    "plt.plot(history.history['val_acc'], label='val_acc')\n",
    "plt.legend()\n",
    "plt.show()"
   ]
  },
  {
   "cell_type": "code",
   "execution_count": 23,
   "metadata": {
    "ExecuteTime": {
     "end_time": "2018-05-06T07:52:54.008576Z",
     "start_time": "2018-05-06T07:52:53.843646Z"
    }
   },
   "outputs": [],
   "source": [
    "model.save('./data/baseline_clean_zeros1.pkl')"
   ]
  },
  {
   "cell_type": "code",
   "execution_count": null,
   "metadata": {},
   "outputs": [],
   "source": []
  }
 ],
 "metadata": {
  "kernelspec": {
   "display_name": "Python 3",
   "language": "python",
   "name": "python3"
  },
  "language_info": {
   "codemirror_mode": {
    "name": "ipython",
    "version": 3
   },
   "file_extension": ".py",
   "mimetype": "text/x-python",
   "name": "python",
   "nbconvert_exporter": "python",
   "pygments_lexer": "ipython3",
   "version": "3.5.3"
  },
  "toc": {
   "nav_menu": {},
   "number_sections": true,
   "sideBar": true,
   "skip_h1_title": false,
   "toc_cell": true,
   "toc_position": {},
   "toc_section_display": "block",
   "toc_window_display": false
  }
 },
 "nbformat": 4,
 "nbformat_minor": 2
}
