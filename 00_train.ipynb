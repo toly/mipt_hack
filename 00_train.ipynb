{
 "cells": [
  {
   "cell_type": "markdown",
   "metadata": {
    "toc": true
   },
   "source": [
    "<h1>Table of Contents<span class=\"tocSkip\"></span></h1>\n",
    "<div class=\"toc\" style=\"margin-top: 1em;\"><ul class=\"toc-item\"><li><span><a href=\"#load-and-research-data\" data-toc-modified-id=\"load-and-research-data-1\"><span class=\"toc-item-num\">1&nbsp;&nbsp;</span>load and research data</a></span></li><li><span><a href=\"#make-dataset\" data-toc-modified-id=\"make-dataset-2\"><span class=\"toc-item-num\">2&nbsp;&nbsp;</span>make dataset</a></span></li><li><span><a href=\"#build-model\" data-toc-modified-id=\"build-model-3\"><span class=\"toc-item-num\">3&nbsp;&nbsp;</span>build model</a></span></li></ul></div>"
   ]
  },
  {
   "cell_type": "code",
   "execution_count": 25,
   "metadata": {
    "ExecuteTime": {
     "end_time": "2018-05-05T21:14:29.353219Z",
     "start_time": "2018-05-05T21:14:29.349289Z"
    }
   },
   "outputs": [],
   "source": [
    "import time\n",
    "import pickle\n",
    "import random\n",
    "import librosa\n",
    "from collections import Counter, defaultdict\n",
    "import numpy as np\n",
    "import pandas as pd\n",
    "from scipy.io import wavfile\n",
    "\n",
    "from keras.models import Sequential\n",
    "from keras.layers import Activation, Conv1D, LSTM, Dense, LeakyReLU, Flatten, MaxPool1D, Dropout\n",
    "from keras.utils import to_categorical\n",
    "\n",
    "import matplotlib.pyplot as plt"
   ]
  },
  {
   "cell_type": "markdown",
   "metadata": {},
   "source": [
    "# load and research data"
   ]
  },
  {
   "cell_type": "code",
   "execution_count": 2,
   "metadata": {
    "ExecuteTime": {
     "end_time": "2018-05-05T15:53:11.049588Z",
     "start_time": "2018-05-05T15:53:11.024743Z"
    }
   },
   "outputs": [],
   "source": [
    "df = pd.read_csv('./data/data_v_7_stc/meta/fold1_train.txt', sep='\\t')"
   ]
  },
  {
   "cell_type": "code",
   "execution_count": 7,
   "metadata": {
    "ExecuteTime": {
     "end_time": "2018-05-05T16:45:10.638268Z",
     "start_time": "2018-05-05T16:45:10.634655Z"
    }
   },
   "outputs": [],
   "source": [
    "df.columns = ['filename', 'xz1', 'xz2', 'time', 'target']"
   ]
  },
  {
   "cell_type": "code",
   "execution_count": 52,
   "metadata": {
    "ExecuteTime": {
     "end_time": "2018-05-05T19:08:27.116588Z",
     "start_time": "2018-05-05T19:08:27.099695Z"
    }
   },
   "outputs": [
    {
     "data": {
      "text/html": [
       "<div>\n",
       "<style scoped>\n",
       "    .dataframe tbody tr th:only-of-type {\n",
       "        vertical-align: middle;\n",
       "    }\n",
       "\n",
       "    .dataframe tbody tr th {\n",
       "        vertical-align: top;\n",
       "    }\n",
       "\n",
       "    .dataframe thead th {\n",
       "        text-align: right;\n",
       "    }\n",
       "</style>\n",
       "<table border=\"1\" class=\"dataframe\">\n",
       "  <thead>\n",
       "    <tr style=\"text-align: right;\">\n",
       "      <th></th>\n",
       "      <th>filename</th>\n",
       "      <th>xz1</th>\n",
       "      <th>xz2</th>\n",
       "      <th>time</th>\n",
       "      <th>target</th>\n",
       "    </tr>\n",
       "  </thead>\n",
       "  <tbody>\n",
       "    <tr>\n",
       "      <th>0</th>\n",
       "      <td>background_0001_time_stretch_1.wav</td>\n",
       "      <td>office</td>\n",
       "      <td>0.0</td>\n",
       "      <td>9.87941</td>\n",
       "      <td>background</td>\n",
       "    </tr>\n",
       "  </tbody>\n",
       "</table>\n",
       "</div>"
      ],
      "text/plain": [
       "                             filename     xz1  xz2     time      target\n",
       "0  background_0001_time_stretch_1.wav  office  0.0  9.87941  background"
      ]
     },
     "execution_count": 52,
     "metadata": {},
     "output_type": "execute_result"
    }
   ],
   "source": [
    "df.head(1)"
   ]
  },
  {
   "cell_type": "code",
   "execution_count": 4,
   "metadata": {
    "ExecuteTime": {
     "end_time": "2018-05-05T16:43:47.773155Z",
     "start_time": "2018-05-05T16:43:47.768600Z"
    }
   },
   "outputs": [
    {
     "data": {
      "text/plain": [
       "(9040, 5)"
      ]
     },
     "execution_count": 4,
     "metadata": {},
     "output_type": "execute_result"
    }
   ],
   "source": [
    "df.shape"
   ]
  },
  {
   "cell_type": "code",
   "execution_count": 8,
   "metadata": {
    "ExecuteTime": {
     "end_time": "2018-05-05T16:45:42.853282Z",
     "start_time": "2018-05-05T16:45:42.843467Z"
    }
   },
   "outputs": [
    {
     "data": {
      "text/plain": [
       "(8343, 5)"
      ]
     },
     "execution_count": 8,
     "metadata": {},
     "output_type": "execute_result"
    }
   ],
   "source": [
    "df[df['time'] > 1].shape"
   ]
  },
  {
   "cell_type": "code",
   "execution_count": 9,
   "metadata": {
    "ExecuteTime": {
     "end_time": "2018-05-05T16:45:50.734495Z",
     "start_time": "2018-05-05T16:45:50.722858Z"
    }
   },
   "outputs": [
    {
     "data": {
      "text/plain": [
       "(696, 5)"
      ]
     },
     "execution_count": 9,
     "metadata": {},
     "output_type": "execute_result"
    }
   ],
   "source": [
    "df[df['time'] < 1].shape"
   ]
  },
  {
   "cell_type": "code",
   "execution_count": 10,
   "metadata": {
    "ExecuteTime": {
     "end_time": "2018-05-05T16:46:49.780061Z",
     "start_time": "2018-05-05T16:46:49.769699Z"
    }
   },
   "outputs": [
    {
     "data": {
      "text/plain": [
       "door        665\n",
       "ring         16\n",
       "keyboard     12\n",
       "bags          3\n",
       "Name: target, dtype: int64"
      ]
     },
     "execution_count": 10,
     "metadata": {},
     "output_type": "execute_result"
    }
   ],
   "source": [
    "df[df['time'] < 1]['target'].value_counts()"
   ]
  },
  {
   "cell_type": "code",
   "execution_count": 11,
   "metadata": {
    "ExecuteTime": {
     "end_time": "2018-05-05T16:47:01.530651Z",
     "start_time": "2018-05-05T16:47:01.518670Z"
    }
   },
   "outputs": [
    {
     "data": {
      "text/plain": [
       "door             2732\n",
       "tool             1327\n",
       "knocking_door    1324\n",
       "bags              988\n",
       "keyboard          980\n",
       "background        899\n",
       "ring              570\n",
       "speech            220\n",
       "Name: target, dtype: int64"
      ]
     },
     "execution_count": 11,
     "metadata": {},
     "output_type": "execute_result"
    }
   ],
   "source": [
    "df['target'].value_counts()"
   ]
  },
  {
   "cell_type": "code",
   "execution_count": 13,
   "metadata": {
    "ExecuteTime": {
     "end_time": "2018-05-05T16:47:48.016644Z",
     "start_time": "2018-05-05T16:47:47.999102Z"
    }
   },
   "outputs": [
    {
     "data": {
      "text/html": [
       "<div>\n",
       "<style scoped>\n",
       "    .dataframe tbody tr th:only-of-type {\n",
       "        vertical-align: middle;\n",
       "    }\n",
       "\n",
       "    .dataframe tbody tr th {\n",
       "        vertical-align: top;\n",
       "    }\n",
       "\n",
       "    .dataframe thead th {\n",
       "        text-align: right;\n",
       "    }\n",
       "</style>\n",
       "<table border=\"1\" class=\"dataframe\">\n",
       "  <thead>\n",
       "    <tr style=\"text-align: right;\">\n",
       "      <th></th>\n",
       "      <th>xz2</th>\n",
       "      <th>time</th>\n",
       "    </tr>\n",
       "    <tr>\n",
       "      <th>target</th>\n",
       "      <th></th>\n",
       "      <th></th>\n",
       "    </tr>\n",
       "  </thead>\n",
       "  <tbody>\n",
       "    <tr>\n",
       "      <th>background</th>\n",
       "      <td>0.0</td>\n",
       "      <td>5111.431459</td>\n",
       "    </tr>\n",
       "    <tr>\n",
       "      <th>bags</th>\n",
       "      <td>0.0</td>\n",
       "      <td>5852.070551</td>\n",
       "    </tr>\n",
       "    <tr>\n",
       "      <th>door</th>\n",
       "      <td>0.0</td>\n",
       "      <td>4773.073604</td>\n",
       "    </tr>\n",
       "    <tr>\n",
       "      <th>keyboard</th>\n",
       "      <td>0.0</td>\n",
       "      <td>6271.668068</td>\n",
       "    </tr>\n",
       "    <tr>\n",
       "      <th>knocking_door</th>\n",
       "      <td>0.0</td>\n",
       "      <td>4615.728440</td>\n",
       "    </tr>\n",
       "    <tr>\n",
       "      <th>ring</th>\n",
       "      <td>0.0</td>\n",
       "      <td>7512.491750</td>\n",
       "    </tr>\n",
       "    <tr>\n",
       "      <th>speech</th>\n",
       "      <td>0.0</td>\n",
       "      <td>7890.544000</td>\n",
       "    </tr>\n",
       "    <tr>\n",
       "      <th>tool</th>\n",
       "      <td>0.0</td>\n",
       "      <td>5927.869500</td>\n",
       "    </tr>\n",
       "  </tbody>\n",
       "</table>\n",
       "</div>"
      ],
      "text/plain": [
       "               xz2         time\n",
       "target                         \n",
       "background     0.0  5111.431459\n",
       "bags           0.0  5852.070551\n",
       "door           0.0  4773.073604\n",
       "keyboard       0.0  6271.668068\n",
       "knocking_door  0.0  4615.728440\n",
       "ring           0.0  7512.491750\n",
       "speech         0.0  7890.544000\n",
       "tool           0.0  5927.869500"
      ]
     },
     "execution_count": 13,
     "metadata": {},
     "output_type": "execute_result"
    }
   ],
   "source": [
    "df[df['time'] > 1].groupby('target').sum()"
   ]
  },
  {
   "cell_type": "code",
   "execution_count": 50,
   "metadata": {
    "ExecuteTime": {
     "end_time": "2018-05-05T17:16:31.630324Z",
     "start_time": "2018-05-05T17:16:31.613658Z"
    }
   },
   "outputs": [
    {
     "data": {
      "text/html": [
       "<div>\n",
       "<style scoped>\n",
       "    .dataframe tbody tr th:only-of-type {\n",
       "        vertical-align: middle;\n",
       "    }\n",
       "\n",
       "    .dataframe tbody tr th {\n",
       "        vertical-align: top;\n",
       "    }\n",
       "\n",
       "    .dataframe thead th {\n",
       "        text-align: right;\n",
       "    }\n",
       "</style>\n",
       "<table border=\"1\" class=\"dataframe\">\n",
       "  <thead>\n",
       "    <tr style=\"text-align: right;\">\n",
       "      <th></th>\n",
       "      <th>filename</th>\n",
       "      <th>xz1</th>\n",
       "      <th>xz2</th>\n",
       "      <th>time</th>\n",
       "      <th>target</th>\n",
       "    </tr>\n",
       "  </thead>\n",
       "  <tbody>\n",
       "    <tr>\n",
       "      <th>0</th>\n",
       "      <td>background_0001_time_stretch_1.wav</td>\n",
       "      <td>office</td>\n",
       "      <td>0.0</td>\n",
       "      <td>9.87941</td>\n",
       "      <td>background</td>\n",
       "    </tr>\n",
       "  </tbody>\n",
       "</table>\n",
       "</div>"
      ],
      "text/plain": [
       "                             filename     xz1  xz2     time      target\n",
       "0  background_0001_time_stretch_1.wav  office  0.0  9.87941  background"
      ]
     },
     "execution_count": 50,
     "metadata": {},
     "output_type": "execute_result"
    }
   ],
   "source": [
    "df.head(1)"
   ]
  },
  {
   "cell_type": "code",
   "execution_count": 20,
   "metadata": {
    "ExecuteTime": {
     "end_time": "2018-05-05T16:52:24.571101Z",
     "start_time": "2018-05-05T16:52:24.562486Z"
    }
   },
   "outputs": [],
   "source": [
    "data = wavfile.read('./data/data_v_7_stc/audio/background_0001_time_stretch_1.wav')"
   ]
  },
  {
   "cell_type": "code",
   "execution_count": 19,
   "metadata": {
    "ExecuteTime": {
     "end_time": "2018-05-05T16:52:21.531599Z",
     "start_time": "2018-05-05T16:52:21.524045Z"
    }
   },
   "outputs": [
    {
     "data": {
      "text/plain": [
       "(217841,)"
      ]
     },
     "execution_count": 19,
     "metadata": {},
     "output_type": "execute_result"
    }
   ],
   "source": [
    "data[1].shape"
   ]
  },
  {
   "cell_type": "code",
   "execution_count": 18,
   "metadata": {
    "ExecuteTime": {
     "end_time": "2018-05-05T16:52:17.449721Z",
     "start_time": "2018-05-05T16:52:17.442827Z"
    }
   },
   "outputs": [
    {
     "data": {
      "text/plain": [
       "22050.000961595884"
      ]
     },
     "execution_count": 18,
     "metadata": {},
     "output_type": "execute_result"
    }
   ],
   "source": [
    "217841 / 9.87941"
   ]
  },
  {
   "cell_type": "code",
   "execution_count": 21,
   "metadata": {
    "ExecuteTime": {
     "end_time": "2018-05-05T16:52:30.139512Z",
     "start_time": "2018-05-05T16:52:30.129866Z"
    }
   },
   "outputs": [
    {
     "data": {
      "text/plain": [
       "22050"
      ]
     },
     "execution_count": 21,
     "metadata": {},
     "output_type": "execute_result"
    }
   ],
   "source": [
    "data[0]"
   ]
  },
  {
   "cell_type": "code",
   "execution_count": 31,
   "metadata": {
    "ExecuteTime": {
     "end_time": "2018-05-05T16:56:02.866040Z",
     "start_time": "2018-05-05T16:56:00.419000Z"
    }
   },
   "outputs": [],
   "source": [
    "f_list = []\n",
    "for filename in df.sample(frac=1.)['filename'][:1000]:\n",
    "    f, _ = wavfile.read('./data/data_v_7_stc/audio/' + filename)\n",
    "    f_list.append(f)"
   ]
  },
  {
   "cell_type": "code",
   "execution_count": 32,
   "metadata": {
    "ExecuteTime": {
     "end_time": "2018-05-05T16:56:05.646643Z",
     "start_time": "2018-05-05T16:56:05.638847Z"
    }
   },
   "outputs": [
    {
     "data": {
      "text/plain": [
       "Counter({16000: 319, 22050: 681})"
      ]
     },
     "execution_count": 32,
     "metadata": {},
     "output_type": "execute_result"
    }
   ],
   "source": [
    "Counter(f_list)"
   ]
  },
  {
   "cell_type": "code",
   "execution_count": 47,
   "metadata": {
    "ExecuteTime": {
     "end_time": "2018-05-05T17:16:20.095261Z",
     "start_time": "2018-05-05T17:16:19.897948Z"
    }
   },
   "outputs": [],
   "source": [
    "data, _ = librosa.load('./data/data_v_7_stc/audio/background_0001_time_stretch_1.wav', sr=8000)"
   ]
  },
  {
   "cell_type": "code",
   "execution_count": 48,
   "metadata": {
    "ExecuteTime": {
     "end_time": "2018-05-05T17:16:20.563550Z",
     "start_time": "2018-05-05T17:16:20.554959Z"
    }
   },
   "outputs": [
    {
     "data": {
      "text/plain": [
       "(79036,)"
      ]
     },
     "execution_count": 48,
     "metadata": {},
     "output_type": "execute_result"
    }
   ],
   "source": [
    "data.shape"
   ]
  },
  {
   "cell_type": "code",
   "execution_count": 49,
   "metadata": {
    "ExecuteTime": {
     "end_time": "2018-05-05T17:16:21.181472Z",
     "start_time": "2018-05-05T17:16:21.174734Z"
    }
   },
   "outputs": [
    {
     "data": {
      "text/plain": [
       "8000.072878846004"
      ]
     },
     "execution_count": 49,
     "metadata": {},
     "output_type": "execute_result"
    }
   ],
   "source": [
    "data.shape[0] / 9.87941"
   ]
  },
  {
   "cell_type": "markdown",
   "metadata": {
    "ExecuteTime": {
     "end_time": "2018-05-05T17:15:54.526493Z",
     "start_time": "2018-05-05T17:15:54.515789Z"
    }
   },
   "source": [
    "# make dataset"
   ]
  },
  {
   "cell_type": "code",
   "execution_count": 62,
   "metadata": {
    "ExecuteTime": {
     "end_time": "2018-05-05T19:17:42.672180Z",
     "start_time": "2018-05-05T19:17:42.650829Z"
    }
   },
   "outputs": [],
   "source": [
    "samples = []\n",
    "targets = []\n",
    "classes_count = {}"
   ]
  },
  {
   "cell_type": "code",
   "execution_count": 63,
   "metadata": {
    "ExecuteTime": {
     "end_time": "2018-05-05T19:17:43.282859Z",
     "start_time": "2018-05-05T19:17:43.274184Z"
    }
   },
   "outputs": [
    {
     "data": {
      "text/plain": [
       "(9040, 5)"
      ]
     },
     "execution_count": 63,
     "metadata": {},
     "output_type": "execute_result"
    }
   ],
   "source": [
    "df.shape"
   ]
  },
  {
   "cell_type": "code",
   "execution_count": 64,
   "metadata": {
    "ExecuteTime": {
     "end_time": "2018-05-05T19:31:48.989744Z",
     "start_time": "2018-05-05T19:17:45.179693Z"
    },
    "collapsed": true
   },
   "outputs": [
    {
     "name": "stdout",
     "output_type": "stream",
     "text": [
      "0 0.0029802322387695312\n",
      "100 13.604460000991821\n",
      "200 10.432376146316528\n",
      "300 12.205159187316895\n",
      "400 9.318132877349854\n",
      "500 9.786399841308594\n",
      "600 13.35417890548706\n",
      "700 9.998601913452148\n",
      "800 7.6592137813568115\n",
      "900 5.928725004196167\n",
      "1000 9.92963194847107\n",
      "1100 28.57975172996521\n",
      "1200 28.391607761383057\n",
      "1300 4.2213099002838135\n",
      "1400 4.137710809707642\n",
      "1500 4.126280307769775\n",
      "1600 4.231290102005005\n",
      "1700 4.425108909606934\n",
      "1800 8.994123220443726\n",
      "1900 6.002050161361694\n",
      "2000 5.580780029296875\n",
      "2100 4.1369171142578125\n",
      "2200 6.405123710632324\n",
      "2300 6.851844072341919\n",
      "2400 5.117296934127808\n",
      "2500 4.365433931350708\n",
      "2600 3.8322370052337646\n",
      "2700 3.0782787799835205\n",
      "2800 5.446597099304199\n",
      "2900 3.681962013244629\n",
      "3000 3.264922857284546\n",
      "3100 3.0600059032440186\n",
      "3200 2.992868185043335\n",
      "3300 2.5928452014923096\n",
      "3400 2.470999002456665\n",
      "3500 2.0350940227508545\n",
      "3600 1.863011121749878\n",
      "3700 1.6055638790130615\n",
      "3800 1.594494342803955\n",
      "3900 1.4082343578338623\n",
      "4000 4.174235105514526\n",
      "4100 4.5639989376068115\n",
      "4200 6.300513744354248\n",
      "4300 5.333600044250488\n",
      "4400 5.012749910354614\n",
      "4500 4.167279243469238\n",
      "4600 6.0583250522613525\n",
      "4700 8.581373929977417\n",
      "4800 10.827409267425537\n",
      "4900 30.74051284790039\n",
      "5000 11.788710832595825\n",
      "5100 6.921303033828735\n",
      "5200 4.937554836273193\n",
      "5300 3.8956239223480225\n",
      "5400 12.54174518585205\n",
      "5500 14.149770021438599\n",
      "5600 10.650008201599121\n",
      "5700 8.230509042739868\n",
      "5800 7.625446796417236\n",
      "5900 7.207117080688477\n",
      "6000 6.95846700668335\n",
      "6100 6.1196417808532715\n",
      "6200 7.13764500617981\n",
      "6300 13.146514892578125\n",
      "6400 6.190513849258423\n",
      "6500 5.033375978469849\n",
      "6600 4.586619853973389\n",
      "6700 6.032348155975342\n",
      "6800 6.8982391357421875\n",
      "6900 8.49928593635559\n",
      "7000 13.26592493057251\n",
      "7100 28.07462191581726\n",
      "7200 28.774014949798584\n",
      "7300 11.872527122497559\n",
      "7400 15.711127042770386\n",
      "7500 23.91770601272583\n",
      "7600 72.90276098251343\n",
      "7700 45.52332806587219\n",
      "7800 6.349265098571777\n",
      "7900 7.035533905029297\n",
      "8000 5.960278034210205\n",
      "8100 14.320721864700317\n",
      "8200 5.2082908153533936\n",
      "8300 5.765097141265869\n",
      "8400 6.249981880187988\n",
      "8500 6.662457227706909\n",
      "8600 7.668484210968018\n",
      "8700 6.2557361125946045\n",
      "8800 6.311418771743774\n",
      "8900 6.1023643016815186\n",
      "9000 6.20936918258667\n"
     ]
    }
   ],
   "source": [
    "t = time.time()\n",
    "for row_no, row in df.iterrows():\n",
    "    if row_no % 100 == 0:\n",
    "        print(row_no, time.time() - t)\n",
    "        t = time.time()\n",
    "    filename = row['filename']\n",
    "    filename = './data/data_v_7_stc/audio/' + filename\n",
    "    data, rate = librosa.load(filename, sr=8000)\n",
    "    target = row['target']\n",
    "    for i in range(0, data.shape[0] - 8000, 8000):\n",
    "        sample = data[i: i + 8000]\n",
    "        if sample.shape[0] < 8000:\n",
    "            continue\n",
    "        samples.append(sample)\n",
    "        targets.append(target)"
   ]
  },
  {
   "cell_type": "code",
   "execution_count": 65,
   "metadata": {
    "ExecuteTime": {
     "end_time": "2018-05-05T19:36:50.907304Z",
     "start_time": "2018-05-05T19:36:50.890545Z"
    }
   },
   "outputs": [
    {
     "data": {
      "text/plain": [
       "Counter({'background': 4655,\n",
       "         'bags': 5387,\n",
       "         'door': 3853,\n",
       "         'keyboard': 5783,\n",
       "         'knocking_door': 3951,\n",
       "         'ring': 7279,\n",
       "         'speech': 7720,\n",
       "         'tool': 4722})"
      ]
     },
     "execution_count": 65,
     "metadata": {},
     "output_type": "execute_result"
    }
   ],
   "source": [
    "Counter(targets)"
   ]
  },
  {
   "cell_type": "code",
   "execution_count": 67,
   "metadata": {
    "ExecuteTime": {
     "end_time": "2018-05-05T19:43:32.014976Z",
     "start_time": "2018-05-05T19:43:31.993917Z"
    }
   },
   "outputs": [],
   "source": [
    "target_dict = defaultdict(list)\n",
    "for sample, target in zip(samples, targets):\n",
    "    target_dict[target].append(sample)"
   ]
  },
  {
   "cell_type": "code",
   "execution_count": 70,
   "metadata": {
    "ExecuteTime": {
     "end_time": "2018-05-05T19:45:19.214316Z",
     "start_time": "2018-05-05T19:45:01.829535Z"
    }
   },
   "outputs": [],
   "source": [
    "with open('./data/samples_8000.pkl', 'wb') as f:\n",
    "    f.write(pickle.dumps(target_dict))"
   ]
  },
  {
   "cell_type": "code",
   "execution_count": 2,
   "metadata": {
    "ExecuteTime": {
     "end_time": "2018-05-05T20:53:28.584412Z",
     "start_time": "2018-05-05T20:53:21.511324Z"
    }
   },
   "outputs": [],
   "source": [
    "with open('./data/samples_8000.pkl', 'rb') as f:\n",
    "    target_dict = pickle.loads(f.read())"
   ]
  },
  {
   "cell_type": "code",
   "execution_count": 3,
   "metadata": {
    "ExecuteTime": {
     "end_time": "2018-05-05T20:53:28.588657Z",
     "start_time": "2018-05-05T20:53:28.586350Z"
    }
   },
   "outputs": [],
   "source": [
    "target_list = list(target_dict.keys())\n",
    "target_list.sort()"
   ]
  },
  {
   "cell_type": "code",
   "execution_count": 4,
   "metadata": {
    "ExecuteTime": {
     "end_time": "2018-05-05T20:53:28.682541Z",
     "start_time": "2018-05-05T20:53:28.590458Z"
    }
   },
   "outputs": [],
   "source": [
    "target2ind = {\n",
    "    target: i\n",
    "    for i, target in enumerate(target_list)\n",
    "}"
   ]
  },
  {
   "cell_type": "code",
   "execution_count": 5,
   "metadata": {
    "ExecuteTime": {
     "end_time": "2018-05-05T20:53:28.789421Z",
     "start_time": "2018-05-05T20:53:28.684487Z"
    }
   },
   "outputs": [],
   "source": [
    "for target in target_dict.keys():\n",
    "    random.shuffle(target_dict[target])"
   ]
  },
  {
   "cell_type": "code",
   "execution_count": 6,
   "metadata": {
    "ExecuteTime": {
     "end_time": "2018-05-05T20:53:28.855982Z",
     "start_time": "2018-05-05T20:53:28.791819Z"
    }
   },
   "outputs": [],
   "source": [
    "x, y = [], []\n",
    "for target, samples in target_dict.items():\n",
    "    target_ind = target2ind[target]\n",
    "    for i in range(3500):\n",
    "        x.append(samples[i])\n",
    "        y.append(target_ind)"
   ]
  },
  {
   "cell_type": "code",
   "execution_count": 7,
   "metadata": {
    "ExecuteTime": {
     "end_time": "2018-05-05T20:53:29.318211Z",
     "start_time": "2018-05-05T20:53:28.857858Z"
    }
   },
   "outputs": [],
   "source": [
    "x = np.vstack(x)\n",
    "y = np.array(y)"
   ]
  },
  {
   "cell_type": "code",
   "execution_count": 8,
   "metadata": {
    "ExecuteTime": {
     "end_time": "2018-05-05T20:53:29.345796Z",
     "start_time": "2018-05-05T20:53:29.320210Z"
    }
   },
   "outputs": [],
   "source": [
    "random_ind = list(range(len(y)))\n",
    "random.shuffle(random_ind)"
   ]
  },
  {
   "cell_type": "code",
   "execution_count": 9,
   "metadata": {
    "ExecuteTime": {
     "end_time": "2018-05-05T20:53:29.778491Z",
     "start_time": "2018-05-05T20:53:29.347992Z"
    }
   },
   "outputs": [],
   "source": [
    "x = x[random_ind]\n",
    "y = y[random_ind]"
   ]
  },
  {
   "cell_type": "markdown",
   "metadata": {},
   "source": [
    "# build model"
   ]
  },
  {
   "cell_type": "markdown",
   "metadata": {},
   "source": [
    "## experiment 1"
   ]
  },
  {
   "cell_type": "code",
   "execution_count": 19,
   "metadata": {
    "ExecuteTime": {
     "end_time": "2018-05-05T21:04:57.701810Z",
     "start_time": "2018-05-05T21:04:57.545190Z"
    }
   },
   "outputs": [
    {
     "name": "stderr",
     "output_type": "stream",
     "text": [
      "/home/toly/projects/mipt_hack/env/lib/python3.5/site-packages/keras/activations.py:115: UserWarning: Do not pass a layer instance (such as LeakyReLU) as the activation argument of another layer. Instead, advanced activation layers should be used just like any other layer in a model.\n",
      "  identifier=identifier.__class__.__name__))\n"
     ]
    }
   ],
   "source": [
    "model = Sequential()\n",
    "model.add(Conv1D(16, 3, activation=LeakyReLU(), input_shape=(8000, 1)))\n",
    "model.add(MaxPool1D(2))\n",
    "model.add(Conv1D(32, 3, activation=LeakyReLU()))\n",
    "model.add(MaxPool1D(2))\n",
    "model.add(Conv1D(64, 3, activation=LeakyReLU()))\n",
    "model.add(MaxPool1D(2))\n",
    "model.add(Conv1D(128, 3, activation=LeakyReLU()))\n",
    "model.add(MaxPool1D(2))\n",
    "model.add(Flatten())\n",
    "model.add(Dense(128, activation='relu'))\n",
    "model.add(Dense(128, activation='relu'))\n",
    "model.add(Dense(8, activation='softmax'))"
   ]
  },
  {
   "cell_type": "code",
   "execution_count": 20,
   "metadata": {
    "ExecuteTime": {
     "end_time": "2018-05-05T21:04:58.506760Z",
     "start_time": "2018-05-05T21:04:58.464548Z"
    }
   },
   "outputs": [],
   "source": [
    "model.compile(optimizer='adam', loss='categorical_crossentropy', metrics=['accuracy'])"
   ]
  },
  {
   "cell_type": "code",
   "execution_count": 21,
   "metadata": {
    "ExecuteTime": {
     "end_time": "2018-05-05T21:04:58.955388Z",
     "start_time": "2018-05-05T21:04:58.951767Z"
    }
   },
   "outputs": [
    {
     "data": {
      "text/plain": [
       "(28000, 8000)"
      ]
     },
     "execution_count": 21,
     "metadata": {},
     "output_type": "execute_result"
    }
   ],
   "source": [
    "x.shape"
   ]
  },
  {
   "cell_type": "code",
   "execution_count": 22,
   "metadata": {
    "ExecuteTime": {
     "end_time": "2018-05-05T21:12:48.521984Z",
     "start_time": "2018-05-05T21:04:59.542472Z"
    }
   },
   "outputs": [
    {
     "name": "stdout",
     "output_type": "stream",
     "text": [
      "Train on 25200 samples, validate on 2800 samples\n",
      "Epoch 1/10\n",
      "25200/25200 [==============================] - 47s 2ms/step - loss: 1.3451 - acc: 0.5026 - val_loss: 1.0858 - val_acc: 0.6243\n",
      "Epoch 2/10\n",
      "25200/25200 [==============================] - 46s 2ms/step - loss: 0.9421 - acc: 0.6795 - val_loss: 0.7886 - val_acc: 0.7404\n",
      "Epoch 3/10\n",
      "25200/25200 [==============================] - 50s 2ms/step - loss: 0.6850 - acc: 0.7762 - val_loss: 0.9774 - val_acc: 0.7057\n",
      "Epoch 4/10\n",
      "25200/25200 [==============================] - 47s 2ms/step - loss: 0.5404 - acc: 0.8235 - val_loss: 0.7942 - val_acc: 0.7643\n",
      "Epoch 5/10\n",
      "25200/25200 [==============================] - 46s 2ms/step - loss: 0.4842 - acc: 0.8448 - val_loss: 0.9007 - val_acc: 0.7679\n",
      "Epoch 6/10\n",
      "25200/25200 [==============================] - 46s 2ms/step - loss: 0.4166 - acc: 0.8695 - val_loss: 0.9231 - val_acc: 0.7721\n",
      "Epoch 7/10\n",
      "25200/25200 [==============================] - 46s 2ms/step - loss: 0.3912 - acc: 0.8805 - val_loss: 1.0585 - val_acc: 0.7714\n",
      "Epoch 8/10\n",
      "25200/25200 [==============================] - 46s 2ms/step - loss: 0.3495 - acc: 0.8940 - val_loss: 1.2955 - val_acc: 0.7489\n",
      "Epoch 9/10\n",
      "25200/25200 [==============================] - 46s 2ms/step - loss: 0.4029 - acc: 0.8900 - val_loss: 1.1489 - val_acc: 0.7614\n",
      "Epoch 10/10\n",
      "25200/25200 [==============================] - 46s 2ms/step - loss: 0.3173 - acc: 0.9069 - val_loss: 1.1552 - val_acc: 0.7739\n"
     ]
    }
   ],
   "source": [
    "history = model.fit(x.reshape(28000, 8000, 1), to_categorical(y), batch_size=32, epochs=10, validation_split=0.1)"
   ]
  },
  {
   "cell_type": "code",
   "execution_count": 23,
   "metadata": {
    "ExecuteTime": {
     "end_time": "2018-05-05T21:13:17.801500Z",
     "start_time": "2018-05-05T21:13:17.364475Z"
    }
   },
   "outputs": [
    {
     "data": {
      "image/png": "[encoded data removed]",
      "text/plain": [
       "<Figure size 432x288 with 1 Axes>"
      ]
     },
     "metadata": {},
     "output_type": "display_data"
    }
   ],
   "source": [
    "plt.plot(history.history['loss'], label='loss')\n",
    "plt.plot(history.history['val_loss'], label='val_loss')\n",
    "plt.legend()\n",
    "plt.show()"
   ]
  },
  {
   "cell_type": "code",
   "execution_count": 24,
   "metadata": {
    "ExecuteTime": {
     "end_time": "2018-05-05T21:13:45.890149Z",
     "start_time": "2018-05-05T21:13:45.729022Z"
    }
   },
   "outputs": [
    {
     "data": {
      "image/png": "[encoded data removed]",
      "text/plain": [
       "<Figure size 432x288 with 1 Axes>"
      ]
     },
     "metadata": {},
     "output_type": "display_data"
    }
   ],
   "source": [
    "plt.plot(history.history['acc'], label='acc')\n",
    "plt.plot(history.history['val_acc'], label='val_acc')\n",
    "plt.legend()\n",
    "plt.show()"
   ]
  },
  {
   "cell_type": "markdown",
   "metadata": {},
   "source": [
    "## experiment 2"
   ]
  },
  {
   "cell_type": "markdown",
   "metadata": {},
   "source": [
    "add dropout"
   ]
  },
  {
   "cell_type": "code",
   "execution_count": 31,
   "metadata": {
    "ExecuteTime": {
     "end_time": "2018-05-05T21:25:31.634862Z",
     "start_time": "2018-05-05T21:25:31.412497Z"
    }
   },
   "outputs": [
    {
     "name": "stderr",
     "output_type": "stream",
     "text": [
      "/home/toly/projects/mipt_hack/env/lib/python3.5/site-packages/keras/activations.py:115: UserWarning: Do not pass a layer instance (such as LeakyReLU) as the activation argument of another layer. Instead, advanced activation layers should be used just like any other layer in a model.\n",
      "  identifier=identifier.__class__.__name__))\n"
     ]
    }
   ],
   "source": [
    "model = Sequential()\n",
    "model.add(Conv1D(16, 3, activation=LeakyReLU(), input_shape=(8000, 1)))\n",
    "model.add(MaxPool1D(2))\n",
    "model.add(Dropout(0.2))\n",
    "model.add(Conv1D(32, 3, activation=LeakyReLU()))\n",
    "model.add(MaxPool1D(2))\n",
    "model.add(Dropout(0.2))\n",
    "model.add(Conv1D(64, 3, activation=LeakyReLU()))\n",
    "model.add(MaxPool1D(2))\n",
    "model.add(Dropout(0.2))\n",
    "model.add(Conv1D(128, 3, activation=LeakyReLU()))\n",
    "model.add(MaxPool1D(2))\n",
    "model.add(Dropout(0.2))\n",
    "model.add(Flatten())\n",
    "model.add(Dense(128, activation='relu'))\n",
    "model.add(Dense(128, activation='relu'))\n",
    "model.add(Dense(8, activation='softmax'))"
   ]
  },
  {
   "cell_type": "code",
   "execution_count": 27,
   "metadata": {
    "ExecuteTime": {
     "end_time": "2018-05-05T21:14:59.497673Z",
     "start_time": "2018-05-05T21:14:59.454265Z"
    }
   },
   "outputs": [],
   "source": [
    "model.compile(optimizer='adam', loss='categorical_crossentropy', metrics=['accuracy'])"
   ]
  },
  {
   "cell_type": "code",
   "execution_count": 28,
   "metadata": {
    "ExecuteTime": {
     "end_time": "2018-05-05T21:23:42.223211Z",
     "start_time": "2018-05-05T21:15:07.543480Z"
    }
   },
   "outputs": [
    {
     "name": "stdout",
     "output_type": "stream",
     "text": [
      "Train on 25200 samples, validate on 2800 samples\n",
      "Epoch 1/10\n",
      "25200/25200 [==============================] - 52s 2ms/step - loss: 1.3663 - acc: 0.4988 - val_loss: 1.1128 - val_acc: 0.6361\n",
      "Epoch 2/10\n",
      "25200/25200 [==============================] - 51s 2ms/step - loss: 0.9639 - acc: 0.6689 - val_loss: 0.9581 - val_acc: 0.6671\n",
      "Epoch 3/10\n",
      "25200/25200 [==============================] - 51s 2ms/step - loss: 0.7359 - acc: 0.7533 - val_loss: 0.8025 - val_acc: 0.7468\n",
      "Epoch 4/10\n",
      "25200/25200 [==============================] - 51s 2ms/step - loss: 0.6099 - acc: 0.8019 - val_loss: 0.7787 - val_acc: 0.7604\n",
      "Epoch 5/10\n",
      "25200/25200 [==============================] - 51s 2ms/step - loss: 0.5939 - acc: 0.8167 - val_loss: 0.7923 - val_acc: 0.7671\n",
      "Epoch 6/10\n",
      "25200/25200 [==============================] - 51s 2ms/step - loss: 0.4675 - acc: 0.8512 - val_loss: 0.9808 - val_acc: 0.7489\n",
      "Epoch 7/10\n",
      "25200/25200 [==============================] - 51s 2ms/step - loss: 0.4264 - acc: 0.8665 - val_loss: 1.4319 - val_acc: 0.7111\n",
      "Epoch 8/10\n",
      "25200/25200 [==============================] - 51s 2ms/step - loss: 0.4355 - acc: 0.8673 - val_loss: 0.9386 - val_acc: 0.7757\n",
      "Epoch 9/10\n",
      "25200/25200 [==============================] - 51s 2ms/step - loss: 0.4092 - acc: 0.8780 - val_loss: 1.0344 - val_acc: 0.7700\n",
      "Epoch 10/10\n",
      "25200/25200 [==============================] - 51s 2ms/step - loss: 0.3717 - acc: 0.8880 - val_loss: 0.9774 - val_acc: 0.7875\n"
     ]
    }
   ],
   "source": [
    "history = model.fit(x.reshape(28000, 8000, 1), to_categorical(y), batch_size=32, epochs=20, validation_split=0.1)"
   ]
  },
  {
   "cell_type": "code",
   "execution_count": 29,
   "metadata": {
    "ExecuteTime": {
     "end_time": "2018-05-05T21:24:20.238875Z",
     "start_time": "2018-05-05T21:24:20.085985Z"
    }
   },
   "outputs": [
    {
     "data": {
      "image/png": "[encoded data removed]",
      "text/plain": [
       "<Figure size 432x288 with 1 Axes>"
      ]
     },
     "metadata": {},
     "output_type": "display_data"
    }
   ],
   "source": [
    "plt.plot(history.history['loss'], label='loss')\n",
    "plt.plot(history.history['val_loss'], label='val_loss')\n",
    "plt.legend()\n",
    "plt.show()"
   ]
  },
  {
   "cell_type": "code",
   "execution_count": 30,
   "metadata": {
    "ExecuteTime": {
     "end_time": "2018-05-05T21:24:21.470570Z",
     "start_time": "2018-05-05T21:24:21.314573Z"
    }
   },
   "outputs": [
    {
     "data": {
      "image/png": "[encoded data removed]",
      "text/plain": [
       "<Figure size 432x288 with 1 Axes>"
      ]
     },
     "metadata": {},
     "output_type": "display_data"
    }
   ],
   "source": [
    "plt.plot(history.history['acc'], label='acc')\n",
    "plt.plot(history.history['val_acc'], label='val_acc')\n",
    "plt.legend()\n",
    "plt.show()"
   ]
  },
  {
   "cell_type": "markdown",
   "metadata": {},
   "source": [
    "## increase filters count"
   ]
  },
  {
   "cell_type": "code",
   "execution_count": 32,
   "metadata": {
    "ExecuteTime": {
     "end_time": "2018-05-05T21:27:31.640930Z",
     "start_time": "2018-05-05T21:27:31.483290Z"
    }
   },
   "outputs": [
    {
     "name": "stderr",
     "output_type": "stream",
     "text": [
      "/home/toly/projects/mipt_hack/env/lib/python3.5/site-packages/keras/activations.py:115: UserWarning: Do not pass a layer instance (such as LeakyReLU) as the activation argument of another layer. Instead, advanced activation layers should be used just like any other layer in a model.\n",
      "  identifier=identifier.__class__.__name__))\n"
     ]
    }
   ],
   "source": [
    "model = Sequential()\n",
    "model.add(Conv1D(32, 3, activation=LeakyReLU(), input_shape=(8000, 1)))\n",
    "model.add(MaxPool1D(2))\n",
    "model.add(Conv1D(64, 3, activation=LeakyReLU()))\n",
    "model.add(MaxPool1D(2))\n",
    "model.add(Conv1D(128, 3, activation=LeakyReLU()))\n",
    "model.add(MaxPool1D(2))\n",
    "model.add(Conv1D(128, 3, activation=LeakyReLU()))\n",
    "model.add(MaxPool1D(2))\n",
    "model.add(Flatten())\n",
    "model.add(Dense(128, activation='relu'))\n",
    "model.add(Dense(128, activation='relu'))\n",
    "model.add(Dense(8, activation='softmax'))"
   ]
  },
  {
   "cell_type": "code",
   "execution_count": 33,
   "metadata": {
    "ExecuteTime": {
     "end_time": "2018-05-05T21:27:39.809449Z",
     "start_time": "2018-05-05T21:27:39.750380Z"
    }
   },
   "outputs": [],
   "source": [
    "model.compile(optimizer='adam', loss='categorical_crossentropy', metrics=['accuracy'])"
   ]
  },
  {
   "cell_type": "code",
   "execution_count": 34,
   "metadata": {
    "ExecuteTime": {
     "end_time": "2018-05-05T21:51:13.919098Z",
     "start_time": "2018-05-05T21:27:46.763861Z"
    }
   },
   "outputs": [
    {
     "name": "stdout",
     "output_type": "stream",
     "text": [
      "Train on 25200 samples, validate on 2800 samples\n",
      "Epoch 1/20\n",
      "25200/25200 [==============================] - 71s 3ms/step - loss: 1.3387 - acc: 0.5059 - val_loss: 1.0065 - val_acc: 0.6596\n",
      "Epoch 2/20\n",
      "25200/25200 [==============================] - 70s 3ms/step - loss: 0.8915 - acc: 0.6985 - val_loss: 0.8469 - val_acc: 0.7243\n",
      "Epoch 3/20\n",
      "25200/25200 [==============================] - 70s 3ms/step - loss: 0.7185 - acc: 0.7685 - val_loss: 0.9124 - val_acc: 0.7364\n",
      "Epoch 4/20\n",
      "25200/25200 [==============================] - 70s 3ms/step - loss: 0.5727 - acc: 0.8178 - val_loss: 0.9359 - val_acc: 0.7332\n",
      "Epoch 5/20\n",
      "25200/25200 [==============================] - 70s 3ms/step - loss: 0.4766 - acc: 0.8506 - val_loss: 0.8515 - val_acc: 0.7679\n",
      "Epoch 6/20\n",
      "25200/25200 [==============================] - 70s 3ms/step - loss: 0.4387 - acc: 0.8662 - val_loss: 0.9434 - val_acc: 0.7739\n",
      "Epoch 7/20\n",
      "25200/25200 [==============================] - 70s 3ms/step - loss: 0.4041 - acc: 0.8792 - val_loss: 0.9453 - val_acc: 0.7857\n",
      "Epoch 8/20\n",
      "25200/25200 [==============================] - 70s 3ms/step - loss: 0.3484 - acc: 0.8951 - val_loss: 1.1591 - val_acc: 0.7779\n",
      "Epoch 9/20\n",
      "25200/25200 [==============================] - 70s 3ms/step - loss: 0.3622 - acc: 0.8960 - val_loss: 1.3598 - val_acc: 0.7425\n",
      "Epoch 10/20\n",
      "25200/25200 [==============================] - 70s 3ms/step - loss: 0.3143 - acc: 0.9082 - val_loss: 1.1132 - val_acc: 0.7864\n",
      "Epoch 11/20\n",
      "25200/25200 [==============================] - 70s 3ms/step - loss: 0.3048 - acc: 0.9136 - val_loss: 1.2156 - val_acc: 0.7493\n",
      "Epoch 12/20\n",
      "25200/25200 [==============================] - 70s 3ms/step - loss: 0.3378 - acc: 0.9138 - val_loss: 1.5803 - val_acc: 0.6875\n",
      "Epoch 13/20\n",
      "25200/25200 [==============================] - 70s 3ms/step - loss: 0.3114 - acc: 0.9182 - val_loss: 1.3378 - val_acc: 0.7757\n",
      "Epoch 14/20\n",
      "25200/25200 [==============================] - 70s 3ms/step - loss: 0.2514 - acc: 0.9320 - val_loss: 1.3483 - val_acc: 0.7679\n",
      "Epoch 15/20\n",
      "25200/25200 [==============================] - 70s 3ms/step - loss: 0.2385 - acc: 0.9361 - val_loss: 1.4061 - val_acc: 0.7818\n",
      "Epoch 16/20\n",
      "25200/25200 [==============================] - 70s 3ms/step - loss: 0.2867 - acc: 0.9302 - val_loss: 1.7969 - val_acc: 0.7329\n",
      "Epoch 17/20\n",
      "25200/25200 [==============================] - 70s 3ms/step - loss: 0.2523 - acc: 0.9332 - val_loss: 1.6026 - val_acc: 0.7664\n",
      "Epoch 18/20\n",
      "25200/25200 [==============================] - 70s 3ms/step - loss: 0.2635 - acc: 0.9367 - val_loss: 1.6490 - val_acc: 0.7618\n",
      "Epoch 19/20\n",
      "25200/25200 [==============================] - 70s 3ms/step - loss: 0.2163 - acc: 0.9469 - val_loss: 1.5947 - val_acc: 0.7736\n",
      "Epoch 20/20\n",
      "25200/25200 [==============================] - 70s 3ms/step - loss: 0.2109 - acc: 0.9474 - val_loss: 1.5736 - val_acc: 0.7757\n"
     ]
    }
   ],
   "source": [
    "history = model.fit(x.reshape(28000, 8000, 1), to_categorical(y), batch_size=32, epochs=20, validation_split=0.1)"
   ]
  },
  {
   "cell_type": "code",
   "execution_count": 35,
   "metadata": {
    "ExecuteTime": {
     "end_time": "2018-05-05T21:51:14.088846Z",
     "start_time": "2018-05-05T21:51:13.921528Z"
    }
   },
   "outputs": [
    {
     "data": {
      "image/png": "[encoded data removed]",
      "text/plain": [
       "<Figure size 432x288 with 1 Axes>"
      ]
     },
     "metadata": {},
     "output_type": "display_data"
    }
   ],
   "source": [
    "plt.plot(history.history['loss'], label='loss')\n",
    "plt.plot(history.history['val_loss'], label='val_loss')\n",
    "plt.legend()\n",
    "plt.show()"
   ]
  },
  {
   "cell_type": "code",
   "execution_count": 36,
   "metadata": {
    "ExecuteTime": {
     "end_time": "2018-05-05T21:51:14.259546Z",
     "start_time": "2018-05-05T21:51:14.091551Z"
    }
   },
   "outputs": [
    {
     "data": {
      "image/png": "[encoded data removed]",
      "text/plain": [
       "<Figure size 432x288 with 1 Axes>"
      ]
     },
     "metadata": {},
     "output_type": "display_data"
    }
   ],
   "source": [
    "plt.plot(history.history['acc'], label='acc')\n",
    "plt.plot(history.history['val_acc'], label='val_acc')\n",
    "plt.legend()\n",
    "plt.show()"
   ]
  },
  {
   "cell_type": "markdown",
   "metadata": {},
   "source": [
    "## increase batch"
   ]
  },
  {
   "cell_type": "code",
   "execution_count": 56,
   "metadata": {
    "ExecuteTime": {
     "end_time": "2018-05-05T22:16:20.275963Z",
     "start_time": "2018-05-05T22:16:20.118130Z"
    }
   },
   "outputs": [
    {
     "name": "stderr",
     "output_type": "stream",
     "text": [
      "/home/toly/projects/mipt_hack/env/lib/python3.5/site-packages/keras/activations.py:115: UserWarning: Do not pass a layer instance (such as LeakyReLU) as the activation argument of another layer. Instead, advanced activation layers should be used just like any other layer in a model.\n",
      "  identifier=identifier.__class__.__name__))\n"
     ]
    }
   ],
   "source": [
    "model = Sequential()\n",
    "model.add(Conv1D(64, 3, activation=LeakyReLU(), input_shape=(8000, 1)))\n",
    "model.add(MaxPool1D(2))\n",
    "model.add(Conv1D(64, 3, activation=LeakyReLU()))\n",
    "model.add(MaxPool1D(2))\n",
    "model.add(Conv1D(64, 3, activation=LeakyReLU()))\n",
    "model.add(MaxPool1D(2))\n",
    "model.add(Conv1D(64, 3, activation=LeakyReLU()))\n",
    "model.add(MaxPool1D(4))\n",
    "model.add(Flatten())\n",
    "model.add(Dense(128, activation='relu'))\n",
    "model.add(Dense(128, activation='relu'))\n",
    "model.add(Dense(8, activation='softmax'))"
   ]
  },
  {
   "cell_type": "code",
   "execution_count": 57,
   "metadata": {
    "ExecuteTime": {
     "end_time": "2018-05-05T22:16:21.544869Z",
     "start_time": "2018-05-05T22:16:21.502334Z"
    }
   },
   "outputs": [],
   "source": [
    "model.compile(optimizer='adam', loss='categorical_crossentropy', metrics=['accuracy'])"
   ]
  },
  {
   "cell_type": "code",
   "execution_count": null,
   "metadata": {
    "ExecuteTime": {
     "start_time": "2018-05-05T22:16:24.597Z"
    }
   },
   "outputs": [
    {
     "name": "stdout",
     "output_type": "stream",
     "text": [
      "Train on 25200 samples, validate on 2800 samples\n",
      "Epoch 1/20\n"
     ]
    }
   ],
   "source": [
    "history = model.fit(x.reshape(28000, 8000, 1), to_categorical(y), batch_size=32, epochs=20, validation_split=0.1)"
   ]
  },
  {
   "cell_type": "code",
   "execution_count": null,
   "metadata": {
    "ExecuteTime": {
     "end_time": "2018-05-05T22:12:39.973788Z",
     "start_time": "2018-05-05T22:12:37.116Z"
    }
   },
   "outputs": [],
   "source": [
    "plt.plot(history.history['loss'], label='loss')\n",
    "plt.plot(history.history['val_loss'], label='val_loss')\n",
    "plt.legend()\n",
    "plt.show()"
   ]
  },
  {
   "cell_type": "code",
   "execution_count": null,
   "metadata": {
    "ExecuteTime": {
     "end_time": "2018-05-05T22:12:39.974685Z",
     "start_time": "2018-05-05T22:12:37.705Z"
    }
   },
   "outputs": [],
   "source": [
    "plt.plot(history.history['acc'], label='acc')\n",
    "plt.plot(history.history['val_acc'], label='val_acc')\n",
    "plt.legend()\n",
    "plt.show()"
   ]
  },
  {
   "cell_type": "code",
   "execution_count": null,
   "metadata": {},
   "outputs": [],
   "source": []
  }
 ],
 "metadata": {
  "kernelspec": {
   "display_name": "Python 3",
   "language": "python",
   "name": "python3"
  },
  "language_info": {
   "codemirror_mode": {
    "name": "ipython",
    "version": 3
   },
   "file_extension": ".py",
   "mimetype": "text/x-python",
   "name": "python",
   "nbconvert_exporter": "python",
   "pygments_lexer": "ipython3",
   "version": "3.5.3"
  },
  "toc": {
   "nav_menu": {},
   "number_sections": true,
   "sideBar": true,
   "skip_h1_title": false,
   "toc_cell": true,
   "toc_position": {},
   "toc_section_display": "block",
   "toc_window_display": false
  }
 },
 "nbformat": 4,
 "nbformat_minor": 2
}
